{
 "cells": [
  {
   "cell_type": "markdown",
   "metadata": {},
   "source": [
    "## Contents:\n",
    "- [Define Functions](#Define-Functions)\n",
    "- [Importing Scrap Data](#Importing-Scrap-Data)\n",
    "- [Inspect & Cleaning](#Inspect-&-Cleaning)\n",
    "- [EDA](#EDA)\n",
    "- [Target and feature (Post)](#Target-and-feature-(Post))\n",
    "- [Logistic Regression](#Logistic-Regression)\n",
    "- [MultinomialNB](#MultinomialNB)\n",
    "- [Gridsearch & Pipeline](#Gridsearch-&-Pipeline)\n",
    "- [Evaluation Summary](#Evaluation-Summary)\n",
    "- [Conclusion & Recommendation](#Conclusion-&-Recommendation)"
   ]
  },
  {
   "cell_type": "code",
   "execution_count": 2,
   "metadata": {},
   "outputs": [],
   "source": [
    "# import libraries\n",
    "\n",
    "# maths\n",
    "import scipy.stats as stats\n",
    "import numpy as np\n",
    "import pandas as pd\n",
    "\n",
    "# visual\n",
    "import seaborn as sns\n",
    "import matplotlib.pyplot as plt\n",
    "from matplotlib_venn import venn2\n",
    "from wordcloud import WordCloud\n",
    "%matplotlib inline\n",
    "\n",
    "# modelling\n",
    "from sklearn.linear_model import LinearRegression,LogisticRegression\n",
    "from sklearn import linear_model\n",
    "from sklearn.model_selection import train_test_split,cross_val_score,GridSearchCV\n",
    "from sklearn.preprocessing import StandardScaler,PolynomialFeatures\n",
    "from sklearn.linear_model import Ridge\n",
    "from sklearn.metrics import r2_score,mean_squared_error,confusion_matrix,accuracy_score,roc_auc_score\n",
    "from sklearn.pipeline import make_pipeline,Pipeline\n",
    "\n",
    "# nlp\n",
    "from sklearn.feature_extraction.text import CountVectorizer,TfidfVectorizer\n",
    "from sklearn.naive_bayes import MultinomialNB\n",
    "from nltk.stem import PorterStemmer,WordNetLemmatizer\n",
    "from nltk.tokenize import sent_tokenize, word_tokenize\n",
    "from nltk.corpus import stopwords\n",
    "from nltk.sentiment.vader import SentimentIntensityAnalyzer\n",
    "import re\n",
    "\n"
   ]
  },
  {
   "cell_type": "markdown",
   "metadata": {},
   "source": [
    "## Define Functions"
   ]
  },
  {
   "cell_type": "code",
   "execution_count": 3,
   "metadata": {},
   "outputs": [],
   "source": [
    "lem = WordNetLemmatizer()\n",
    "\n",
    "def preprocessing(text):\n",
    "    #Remove Hyperlinks\n",
    "    text = re.sub(r'https?:\\/\\/.*\\/\\w*', '', text) # Remove hyperlinks \n",
    "    \n",
    "    #Remove non-letters.\n",
    "    text = re.sub(\"[^a-zA-Z]\", \" \", text)\n",
    "    \n",
    "    #Convert to lower case, split into individual words.\n",
    "    text = text.lower().split()\n",
    "    \n",
    "   #Instantiate lemmatize\n",
    "    lemmatize_words = [lem.lemmatize(i) for i in text]\n",
    "    \n",
    "    # Remove stop words.\n",
    "    meaningful_words = [x for x in lemmatize_words if x not in stopwords.words('english')]\n",
    "    \n",
    "    # Join the words back into one string separated by space, \n",
    "    return(\" \".join(meaningful_words))"
   ]
  },
  {
   "cell_type": "code",
   "execution_count": 4,
   "metadata": {},
   "outputs": [],
   "source": [
    "# Define function to calculate sensitivity. (True positive rate.)\n",
    "def TPR(df, true_col, pred_prob_col, threshold):\n",
    "    true_positive = df[(df[true_col] == 1) & (df[pred_prob_col] >= threshold)].shape[0]\n",
    "    false_negative = df[(df[true_col] == 1) & (df[pred_prob_col] < threshold)].shape[0]\n",
    "    return true_positive / (true_positive + false_negative)\n",
    "\n",
    "# Define function to calculate 1 - specificity. (False positive rate.)\n",
    "def FPR(df, true_col, pred_prob_col, threshold):\n",
    "    true_negative = df[(df[true_col] == 0) & (df[pred_prob_col] <= threshold)].shape[0]\n",
    "    false_positive = df[(df[true_col] == 0) & (df[pred_prob_col] > threshold)].shape[0]\n",
    "    return 1 - (true_negative / (true_negative + false_positive))"
   ]
  },
  {
   "cell_type": "markdown",
   "metadata": {},
   "source": [
    "## Importing Scrap Data"
   ]
  },
  {
   "cell_type": "code",
   "execution_count": 5,
   "metadata": {},
   "outputs": [],
   "source": [
    "#Opening dataset from reddit API\n",
    "\n",
    "df_anxiety = pd.read_csv('./Dataset/anxiety.csv')\n",
    "df_depression = pd.read_csv('./Dataset/depression_dark.csv')"
   ]
  },
  {
   "cell_type": "code",
   "execution_count": 6,
   "metadata": {},
   "outputs": [
    {
     "data": {
      "text/plain": [
       "(1253, 104)"
      ]
     },
     "execution_count": 6,
     "metadata": {},
     "output_type": "execute_result"
    }
   ],
   "source": [
    "df_anxiety.shape"
   ]
  },
  {
   "cell_type": "code",
   "execution_count": 7,
   "metadata": {},
   "outputs": [
    {
     "data": {
      "text/plain": [
       "(1246, 100)"
      ]
     },
     "execution_count": 7,
     "metadata": {},
     "output_type": "execute_result"
    }
   ],
   "source": [
    "df_depression.shape"
   ]
  },
  {
   "cell_type": "markdown",
   "metadata": {},
   "source": [
    "## Inspect & Cleaning "
   ]
  },
  {
   "cell_type": "code",
   "execution_count": 8,
   "metadata": {},
   "outputs": [
    {
     "data": {
      "text/html": [
       "<div>\n",
       "<style scoped>\n",
       "    .dataframe tbody tr th:only-of-type {\n",
       "        vertical-align: middle;\n",
       "    }\n",
       "\n",
       "    .dataframe tbody tr th {\n",
       "        vertical-align: top;\n",
       "    }\n",
       "\n",
       "    .dataframe thead th {\n",
       "        text-align: right;\n",
       "    }\n",
       "</style>\n",
       "<table border=\"1\" class=\"dataframe\">\n",
       "  <thead>\n",
       "    <tr style=\"text-align: right;\">\n",
       "      <th></th>\n",
       "      <th>approved_at_utc</th>\n",
       "      <th>subreddit</th>\n",
       "      <th>selftext</th>\n",
       "      <th>author_fullname</th>\n",
       "      <th>saved</th>\n",
       "      <th>mod_reason_title</th>\n",
       "      <th>gilded</th>\n",
       "      <th>clicked</th>\n",
       "      <th>title</th>\n",
       "      <th>link_flair_richtext</th>\n",
       "      <th>...</th>\n",
       "      <th>stickied</th>\n",
       "      <th>url</th>\n",
       "      <th>subreddit_subscribers</th>\n",
       "      <th>created_utc</th>\n",
       "      <th>num_crossposts</th>\n",
       "      <th>media</th>\n",
       "      <th>is_video</th>\n",
       "      <th>link_flair_template_id</th>\n",
       "      <th>post_hint</th>\n",
       "      <th>preview</th>\n",
       "    </tr>\n",
       "  </thead>\n",
       "  <tbody>\n",
       "    <tr>\n",
       "      <th>0</th>\n",
       "      <td>NaN</td>\n",
       "      <td>Anxiety</td>\n",
       "      <td>\"Happy Sunday! What does your week look like?\\...</td>\n",
       "      <td>t2_6l4z3</td>\n",
       "      <td>False</td>\n",
       "      <td>NaN</td>\n",
       "      <td>0</td>\n",
       "      <td>False</td>\n",
       "      <td>Sunday General Chat Thread - March 01, 2020</td>\n",
       "      <td>[]</td>\n",
       "      <td>...</td>\n",
       "      <td>True</td>\n",
       "      <td>https://www.reddit.com/r/Anxiety/comments/fbt8...</td>\n",
       "      <td>335083</td>\n",
       "      <td>1.583065e+09</td>\n",
       "      <td>0</td>\n",
       "      <td>NaN</td>\n",
       "      <td>False</td>\n",
       "      <td>NaN</td>\n",
       "      <td>NaN</td>\n",
       "      <td>NaN</td>\n",
       "    </tr>\n",
       "    <tr>\n",
       "      <th>1</th>\n",
       "      <td>NaN</td>\n",
       "      <td>Anxiety</td>\n",
       "      <td>Hello, everyone. We understand that there is a...</td>\n",
       "      <td>t2_j1gdm</td>\n",
       "      <td>False</td>\n",
       "      <td>NaN</td>\n",
       "      <td>0</td>\n",
       "      <td>False</td>\n",
       "      <td>Coronavirus Megathread</td>\n",
       "      <td>[]</td>\n",
       "      <td>...</td>\n",
       "      <td>True</td>\n",
       "      <td>https://www.reddit.com/r/Anxiety/comments/eupi...</td>\n",
       "      <td>335083</td>\n",
       "      <td>1.580140e+09</td>\n",
       "      <td>0</td>\n",
       "      <td>NaN</td>\n",
       "      <td>False</td>\n",
       "      <td>a3804d3a-73b8-11e5-8bc1-0e7d1b48e76b</td>\n",
       "      <td>NaN</td>\n",
       "      <td>NaN</td>\n",
       "    </tr>\n",
       "    <tr>\n",
       "      <th>2</th>\n",
       "      <td>NaN</td>\n",
       "      <td>Anxiety</td>\n",
       "      <td>That is all.</td>\n",
       "      <td>t2_e480f</td>\n",
       "      <td>False</td>\n",
       "      <td>NaN</td>\n",
       "      <td>0</td>\n",
       "      <td>False</td>\n",
       "      <td>Fuck company events that make you speak in fro...</td>\n",
       "      <td>[]</td>\n",
       "      <td>...</td>\n",
       "      <td>False</td>\n",
       "      <td>https://www.reddit.com/r/Anxiety/comments/fein...</td>\n",
       "      <td>335083</td>\n",
       "      <td>1.583523e+09</td>\n",
       "      <td>0</td>\n",
       "      <td>NaN</td>\n",
       "      <td>False</td>\n",
       "      <td>NaN</td>\n",
       "      <td>NaN</td>\n",
       "      <td>NaN</td>\n",
       "    </tr>\n",
       "    <tr>\n",
       "      <th>3</th>\n",
       "      <td>NaN</td>\n",
       "      <td>Anxiety</td>\n",
       "      <td>Depression makes me want to stay in bed and sl...</td>\n",
       "      <td>t2_3m7qz4eg</td>\n",
       "      <td>False</td>\n",
       "      <td>NaN</td>\n",
       "      <td>1</td>\n",
       "      <td>False</td>\n",
       "      <td>Depression and anxiety together is the worst.</td>\n",
       "      <td>[]</td>\n",
       "      <td>...</td>\n",
       "      <td>False</td>\n",
       "      <td>https://www.reddit.com/r/Anxiety/comments/fe8b...</td>\n",
       "      <td>335083</td>\n",
       "      <td>1.583470e+09</td>\n",
       "      <td>0</td>\n",
       "      <td>NaN</td>\n",
       "      <td>False</td>\n",
       "      <td>96ff8fbc-f4b0-11e4-ac07-22000b39c343</td>\n",
       "      <td>NaN</td>\n",
       "      <td>NaN</td>\n",
       "    </tr>\n",
       "    <tr>\n",
       "      <th>4</th>\n",
       "      <td>NaN</td>\n",
       "      <td>Anxiety</td>\n",
       "      <td>I constantly feel guilty. I can’t think of any...</td>\n",
       "      <td>t2_510dlbra</td>\n",
       "      <td>False</td>\n",
       "      <td>NaN</td>\n",
       "      <td>0</td>\n",
       "      <td>False</td>\n",
       "      <td>I feel guilty about absolutely everything</td>\n",
       "      <td>[]</td>\n",
       "      <td>...</td>\n",
       "      <td>False</td>\n",
       "      <td>https://www.reddit.com/r/Anxiety/comments/feiq...</td>\n",
       "      <td>335083</td>\n",
       "      <td>1.583523e+09</td>\n",
       "      <td>0</td>\n",
       "      <td>NaN</td>\n",
       "      <td>False</td>\n",
       "      <td>19ddd408-76a1-11e5-acb1-0ea7f7edc7ed</td>\n",
       "      <td>NaN</td>\n",
       "      <td>NaN</td>\n",
       "    </tr>\n",
       "  </tbody>\n",
       "</table>\n",
       "<p>5 rows × 104 columns</p>\n",
       "</div>"
      ],
      "text/plain": [
       "   approved_at_utc subreddit  \\\n",
       "0              NaN   Anxiety   \n",
       "1              NaN   Anxiety   \n",
       "2              NaN   Anxiety   \n",
       "3              NaN   Anxiety   \n",
       "4              NaN   Anxiety   \n",
       "\n",
       "                                            selftext author_fullname  saved  \\\n",
       "0  \"Happy Sunday! What does your week look like?\\...        t2_6l4z3  False   \n",
       "1  Hello, everyone. We understand that there is a...        t2_j1gdm  False   \n",
       "2                                       That is all.        t2_e480f  False   \n",
       "3  Depression makes me want to stay in bed and sl...     t2_3m7qz4eg  False   \n",
       "4  I constantly feel guilty. I can’t think of any...     t2_510dlbra  False   \n",
       "\n",
       "   mod_reason_title  gilded  clicked  \\\n",
       "0               NaN       0    False   \n",
       "1               NaN       0    False   \n",
       "2               NaN       0    False   \n",
       "3               NaN       1    False   \n",
       "4               NaN       0    False   \n",
       "\n",
       "                                               title link_flair_richtext  ...  \\\n",
       "0        Sunday General Chat Thread - March 01, 2020                  []  ...   \n",
       "1                             Coronavirus Megathread                  []  ...   \n",
       "2  Fuck company events that make you speak in fro...                  []  ...   \n",
       "3      Depression and anxiety together is the worst.                  []  ...   \n",
       "4          I feel guilty about absolutely everything                  []  ...   \n",
       "\n",
       "  stickied                                                url  \\\n",
       "0     True  https://www.reddit.com/r/Anxiety/comments/fbt8...   \n",
       "1     True  https://www.reddit.com/r/Anxiety/comments/eupi...   \n",
       "2    False  https://www.reddit.com/r/Anxiety/comments/fein...   \n",
       "3    False  https://www.reddit.com/r/Anxiety/comments/fe8b...   \n",
       "4    False  https://www.reddit.com/r/Anxiety/comments/feiq...   \n",
       "\n",
       "   subreddit_subscribers   created_utc  num_crossposts  media  is_video  \\\n",
       "0                 335083  1.583065e+09               0    NaN     False   \n",
       "1                 335083  1.580140e+09               0    NaN     False   \n",
       "2                 335083  1.583523e+09               0    NaN     False   \n",
       "3                 335083  1.583470e+09               0    NaN     False   \n",
       "4                 335083  1.583523e+09               0    NaN     False   \n",
       "\n",
       "                 link_flair_template_id  post_hint preview  \n",
       "0                                   NaN        NaN     NaN  \n",
       "1  a3804d3a-73b8-11e5-8bc1-0e7d1b48e76b        NaN     NaN  \n",
       "2                                   NaN        NaN     NaN  \n",
       "3  96ff8fbc-f4b0-11e4-ac07-22000b39c343        NaN     NaN  \n",
       "4  19ddd408-76a1-11e5-acb1-0ea7f7edc7ed        NaN     NaN  \n",
       "\n",
       "[5 rows x 104 columns]"
      ]
     },
     "execution_count": 8,
     "metadata": {},
     "output_type": "execute_result"
    }
   ],
   "source": [
    "df_anxiety.head()"
   ]
  },
  {
   "cell_type": "code",
   "execution_count": 9,
   "metadata": {},
   "outputs": [
    {
     "data": {
      "text/html": [
       "<div>\n",
       "<style scoped>\n",
       "    .dataframe tbody tr th:only-of-type {\n",
       "        vertical-align: middle;\n",
       "    }\n",
       "\n",
       "    .dataframe tbody tr th {\n",
       "        vertical-align: top;\n",
       "    }\n",
       "\n",
       "    .dataframe thead th {\n",
       "        text-align: right;\n",
       "    }\n",
       "</style>\n",
       "<table border=\"1\" class=\"dataframe\">\n",
       "  <thead>\n",
       "    <tr style=\"text-align: right;\">\n",
       "      <th></th>\n",
       "      <th>approved_at_utc</th>\n",
       "      <th>subreddit</th>\n",
       "      <th>selftext</th>\n",
       "      <th>author_fullname</th>\n",
       "      <th>saved</th>\n",
       "      <th>mod_reason_title</th>\n",
       "      <th>gilded</th>\n",
       "      <th>clicked</th>\n",
       "      <th>title</th>\n",
       "      <th>link_flair_richtext</th>\n",
       "      <th>...</th>\n",
       "      <th>permalink</th>\n",
       "      <th>parent_whitelist_status</th>\n",
       "      <th>stickied</th>\n",
       "      <th>url</th>\n",
       "      <th>subreddit_subscribers</th>\n",
       "      <th>created_utc</th>\n",
       "      <th>num_crossposts</th>\n",
       "      <th>media</th>\n",
       "      <th>is_video</th>\n",
       "      <th>author_cakeday</th>\n",
       "    </tr>\n",
       "  </thead>\n",
       "  <tbody>\n",
       "    <tr>\n",
       "      <th>0</th>\n",
       "      <td>NaN</td>\n",
       "      <td>depression</td>\n",
       "      <td>We understand that most people who reply immed...</td>\n",
       "      <td>t2_1t70</td>\n",
       "      <td>False</td>\n",
       "      <td>NaN</td>\n",
       "      <td>0</td>\n",
       "      <td>False</td>\n",
       "      <td>Our most-broken and least-understood rules is ...</td>\n",
       "      <td>[]</td>\n",
       "      <td>...</td>\n",
       "      <td>/r/depression/comments/doqwow/our_mostbroken_a...</td>\n",
       "      <td>no_ads</td>\n",
       "      <td>True</td>\n",
       "      <td>https://www.reddit.com/r/depression/comments/d...</td>\n",
       "      <td>611730</td>\n",
       "      <td>1.572361e+09</td>\n",
       "      <td>0</td>\n",
       "      <td>NaN</td>\n",
       "      <td>False</td>\n",
       "      <td>NaN</td>\n",
       "    </tr>\n",
       "    <tr>\n",
       "      <th>1</th>\n",
       "      <td>NaN</td>\n",
       "      <td>depression</td>\n",
       "      <td>Welcome to /r/depression's check-in post - a p...</td>\n",
       "      <td>t2_64qjj</td>\n",
       "      <td>False</td>\n",
       "      <td>NaN</td>\n",
       "      <td>0</td>\n",
       "      <td>False</td>\n",
       "      <td>Regular Check-In Post</td>\n",
       "      <td>[]</td>\n",
       "      <td>...</td>\n",
       "      <td>/r/depression/comments/exo6f1/regular_checkin_...</td>\n",
       "      <td>no_ads</td>\n",
       "      <td>True</td>\n",
       "      <td>https://www.reddit.com/r/depression/comments/e...</td>\n",
       "      <td>611730</td>\n",
       "      <td>1.580649e+09</td>\n",
       "      <td>0</td>\n",
       "      <td>NaN</td>\n",
       "      <td>False</td>\n",
       "      <td>NaN</td>\n",
       "    </tr>\n",
       "    <tr>\n",
       "      <th>2</th>\n",
       "      <td>NaN</td>\n",
       "      <td>depression</td>\n",
       "      <td>I've been feeling really depressed and lonely ...</td>\n",
       "      <td>t2_17aooz</td>\n",
       "      <td>False</td>\n",
       "      <td>NaN</td>\n",
       "      <td>0</td>\n",
       "      <td>False</td>\n",
       "      <td>I hate it so much when you try and express you...</td>\n",
       "      <td>[]</td>\n",
       "      <td>...</td>\n",
       "      <td>/r/depression/comments/fedwbi/i_hate_it_so_muc...</td>\n",
       "      <td>no_ads</td>\n",
       "      <td>False</td>\n",
       "      <td>https://www.reddit.com/r/depression/comments/f...</td>\n",
       "      <td>611730</td>\n",
       "      <td>1.583503e+09</td>\n",
       "      <td>0</td>\n",
       "      <td>NaN</td>\n",
       "      <td>False</td>\n",
       "      <td>NaN</td>\n",
       "    </tr>\n",
       "    <tr>\n",
       "      <th>3</th>\n",
       "      <td>NaN</td>\n",
       "      <td>depression</td>\n",
       "      <td>First off, what a stupid fucking question to a...</td>\n",
       "      <td>t2_ptslwif</td>\n",
       "      <td>False</td>\n",
       "      <td>NaN</td>\n",
       "      <td>0</td>\n",
       "      <td>False</td>\n",
       "      <td>You ever get asked the \"where do you see yours...</td>\n",
       "      <td>[]</td>\n",
       "      <td>...</td>\n",
       "      <td>/r/depression/comments/fekv9y/you_ever_get_ask...</td>\n",
       "      <td>no_ads</td>\n",
       "      <td>False</td>\n",
       "      <td>https://www.reddit.com/r/depression/comments/f...</td>\n",
       "      <td>611730</td>\n",
       "      <td>1.583531e+09</td>\n",
       "      <td>0</td>\n",
       "      <td>NaN</td>\n",
       "      <td>False</td>\n",
       "      <td>NaN</td>\n",
       "    </tr>\n",
       "    <tr>\n",
       "      <th>4</th>\n",
       "      <td>NaN</td>\n",
       "      <td>depression</td>\n",
       "      <td>Seems like when anyone else in my life is feel...</td>\n",
       "      <td>t2_2e3v4lor</td>\n",
       "      <td>False</td>\n",
       "      <td>NaN</td>\n",
       "      <td>0</td>\n",
       "      <td>False</td>\n",
       "      <td>I'm tired of caring about other people, but no...</td>\n",
       "      <td>[]</td>\n",
       "      <td>...</td>\n",
       "      <td>/r/depression/comments/feh19t/im_tired_of_cari...</td>\n",
       "      <td>no_ads</td>\n",
       "      <td>False</td>\n",
       "      <td>https://www.reddit.com/r/depression/comments/f...</td>\n",
       "      <td>611730</td>\n",
       "      <td>1.583516e+09</td>\n",
       "      <td>0</td>\n",
       "      <td>NaN</td>\n",
       "      <td>False</td>\n",
       "      <td>NaN</td>\n",
       "    </tr>\n",
       "  </tbody>\n",
       "</table>\n",
       "<p>5 rows × 100 columns</p>\n",
       "</div>"
      ],
      "text/plain": [
       "   approved_at_utc   subreddit  \\\n",
       "0              NaN  depression   \n",
       "1              NaN  depression   \n",
       "2              NaN  depression   \n",
       "3              NaN  depression   \n",
       "4              NaN  depression   \n",
       "\n",
       "                                            selftext author_fullname  saved  \\\n",
       "0  We understand that most people who reply immed...         t2_1t70  False   \n",
       "1  Welcome to /r/depression's check-in post - a p...        t2_64qjj  False   \n",
       "2  I've been feeling really depressed and lonely ...       t2_17aooz  False   \n",
       "3  First off, what a stupid fucking question to a...      t2_ptslwif  False   \n",
       "4  Seems like when anyone else in my life is feel...     t2_2e3v4lor  False   \n",
       "\n",
       "   mod_reason_title  gilded  clicked  \\\n",
       "0               NaN       0    False   \n",
       "1               NaN       0    False   \n",
       "2               NaN       0    False   \n",
       "3               NaN       0    False   \n",
       "4               NaN       0    False   \n",
       "\n",
       "                                               title link_flair_richtext  ...  \\\n",
       "0  Our most-broken and least-understood rules is ...                  []  ...   \n",
       "1                              Regular Check-In Post                  []  ...   \n",
       "2  I hate it so much when you try and express you...                  []  ...   \n",
       "3  You ever get asked the \"where do you see yours...                  []  ...   \n",
       "4  I'm tired of caring about other people, but no...                  []  ...   \n",
       "\n",
       "                                           permalink  parent_whitelist_status  \\\n",
       "0  /r/depression/comments/doqwow/our_mostbroken_a...                   no_ads   \n",
       "1  /r/depression/comments/exo6f1/regular_checkin_...                   no_ads   \n",
       "2  /r/depression/comments/fedwbi/i_hate_it_so_muc...                   no_ads   \n",
       "3  /r/depression/comments/fekv9y/you_ever_get_ask...                   no_ads   \n",
       "4  /r/depression/comments/feh19t/im_tired_of_cari...                   no_ads   \n",
       "\n",
       "   stickied                                                url  \\\n",
       "0      True  https://www.reddit.com/r/depression/comments/d...   \n",
       "1      True  https://www.reddit.com/r/depression/comments/e...   \n",
       "2     False  https://www.reddit.com/r/depression/comments/f...   \n",
       "3     False  https://www.reddit.com/r/depression/comments/f...   \n",
       "4     False  https://www.reddit.com/r/depression/comments/f...   \n",
       "\n",
       "   subreddit_subscribers   created_utc num_crossposts  media is_video  \\\n",
       "0                 611730  1.572361e+09              0    NaN    False   \n",
       "1                 611730  1.580649e+09              0    NaN    False   \n",
       "2                 611730  1.583503e+09              0    NaN    False   \n",
       "3                 611730  1.583531e+09              0    NaN    False   \n",
       "4                 611730  1.583516e+09              0    NaN    False   \n",
       "\n",
       "   author_cakeday  \n",
       "0             NaN  \n",
       "1             NaN  \n",
       "2             NaN  \n",
       "3             NaN  \n",
       "4             NaN  \n",
       "\n",
       "[5 rows x 100 columns]"
      ]
     },
     "execution_count": 9,
     "metadata": {},
     "output_type": "execute_result"
    }
   ],
   "source": [
    "df_depression.head()"
   ]
  },
  {
   "cell_type": "code",
   "execution_count": 10,
   "metadata": {},
   "outputs": [
    {
     "data": {
      "text/html": [
       "<div>\n",
       "<style scoped>\n",
       "    .dataframe tbody tr th:only-of-type {\n",
       "        vertical-align: middle;\n",
       "    }\n",
       "\n",
       "    .dataframe tbody tr th {\n",
       "        vertical-align: top;\n",
       "    }\n",
       "\n",
       "    .dataframe thead th {\n",
       "        text-align: right;\n",
       "    }\n",
       "</style>\n",
       "<table border=\"1\" class=\"dataframe\">\n",
       "  <thead>\n",
       "    <tr style=\"text-align: right;\">\n",
       "      <th></th>\n",
       "      <th>author_fullname</th>\n",
       "      <th>selftext</th>\n",
       "      <th>title</th>\n",
       "    </tr>\n",
       "  </thead>\n",
       "  <tbody>\n",
       "    <tr>\n",
       "      <th>2</th>\n",
       "      <td>t2_e480f</td>\n",
       "      <td>That is all.</td>\n",
       "      <td>Fuck company events that make you speak in fro...</td>\n",
       "    </tr>\n",
       "    <tr>\n",
       "      <th>3</th>\n",
       "      <td>t2_3m7qz4eg</td>\n",
       "      <td>Depression makes me want to stay in bed and sl...</td>\n",
       "      <td>Depression and anxiety together is the worst.</td>\n",
       "    </tr>\n",
       "    <tr>\n",
       "      <th>4</th>\n",
       "      <td>t2_510dlbra</td>\n",
       "      <td>I constantly feel guilty. I can’t think of any...</td>\n",
       "      <td>I feel guilty about absolutely everything</td>\n",
       "    </tr>\n",
       "    <tr>\n",
       "      <th>5</th>\n",
       "      <td>t2_5rsqkiod</td>\n",
       "      <td>Woah, I'm so dumb. I never realized that I'm m...</td>\n",
       "      <td>I just realized that I'm the one whose putting...</td>\n",
       "    </tr>\n",
       "    <tr>\n",
       "      <th>6</th>\n",
       "      <td>t2_a6gjh</td>\n",
       "      <td>It’s absolutely terrifying and disturbing. I f...</td>\n",
       "      <td>Does anyone else have really disturbing intrus...</td>\n",
       "    </tr>\n",
       "  </tbody>\n",
       "</table>\n",
       "</div>"
      ],
      "text/plain": [
       "  author_fullname                                           selftext  \\\n",
       "2        t2_e480f                                       That is all.   \n",
       "3     t2_3m7qz4eg  Depression makes me want to stay in bed and sl...   \n",
       "4     t2_510dlbra  I constantly feel guilty. I can’t think of any...   \n",
       "5     t2_5rsqkiod  Woah, I'm so dumb. I never realized that I'm m...   \n",
       "6        t2_a6gjh  It’s absolutely terrifying and disturbing. I f...   \n",
       "\n",
       "                                               title  \n",
       "2  Fuck company events that make you speak in fro...  \n",
       "3      Depression and anxiety together is the worst.  \n",
       "4          I feel guilty about absolutely everything  \n",
       "5  I just realized that I'm the one whose putting...  \n",
       "6  Does anyone else have really disturbing intrus...  "
      ]
     },
     "execution_count": 10,
     "metadata": {},
     "output_type": "execute_result"
    }
   ],
   "source": [
    "#Selecting relevant columns\n",
    "\n",
    "df_anxiety_musk = df_anxiety.loc[:,['author_fullname','selftext','title']]\n",
    "df_anxiety_musk = df_anxiety_musk.iloc[2:,]\n",
    "df_anxiety_musk.head()"
   ]
  },
  {
   "cell_type": "code",
   "execution_count": 11,
   "metadata": {},
   "outputs": [
    {
     "data": {
      "text/html": [
       "<div>\n",
       "<style scoped>\n",
       "    .dataframe tbody tr th:only-of-type {\n",
       "        vertical-align: middle;\n",
       "    }\n",
       "\n",
       "    .dataframe tbody tr th {\n",
       "        vertical-align: top;\n",
       "    }\n",
       "\n",
       "    .dataframe thead th {\n",
       "        text-align: right;\n",
       "    }\n",
       "</style>\n",
       "<table border=\"1\" class=\"dataframe\">\n",
       "  <thead>\n",
       "    <tr style=\"text-align: right;\">\n",
       "      <th></th>\n",
       "      <th>author_fullname</th>\n",
       "      <th>selftext</th>\n",
       "      <th>title</th>\n",
       "    </tr>\n",
       "  </thead>\n",
       "  <tbody>\n",
       "    <tr>\n",
       "      <th>2</th>\n",
       "      <td>t2_17aooz</td>\n",
       "      <td>I've been feeling really depressed and lonely ...</td>\n",
       "      <td>I hate it so much when you try and express you...</td>\n",
       "    </tr>\n",
       "    <tr>\n",
       "      <th>3</th>\n",
       "      <td>t2_ptslwif</td>\n",
       "      <td>First off, what a stupid fucking question to a...</td>\n",
       "      <td>You ever get asked the \"where do you see yours...</td>\n",
       "    </tr>\n",
       "    <tr>\n",
       "      <th>4</th>\n",
       "      <td>t2_2e3v4lor</td>\n",
       "      <td>Seems like when anyone else in my life is feel...</td>\n",
       "      <td>I'm tired of caring about other people, but no...</td>\n",
       "    </tr>\n",
       "    <tr>\n",
       "      <th>5</th>\n",
       "      <td>t2_5v2j4itq</td>\n",
       "      <td>I literally broke down crying and asked to go ...</td>\n",
       "      <td>I went to the hospital because I was having re...</td>\n",
       "    </tr>\n",
       "    <tr>\n",
       "      <th>6</th>\n",
       "      <td>t2_ww40a</td>\n",
       "      <td>\\nWhy? Because if it does work, then I have to...</td>\n",
       "      <td>I secretly don’t want my antidepressant medica...</td>\n",
       "    </tr>\n",
       "  </tbody>\n",
       "</table>\n",
       "</div>"
      ],
      "text/plain": [
       "  author_fullname                                           selftext  \\\n",
       "2       t2_17aooz  I've been feeling really depressed and lonely ...   \n",
       "3      t2_ptslwif  First off, what a stupid fucking question to a...   \n",
       "4     t2_2e3v4lor  Seems like when anyone else in my life is feel...   \n",
       "5     t2_5v2j4itq  I literally broke down crying and asked to go ...   \n",
       "6        t2_ww40a  \\nWhy? Because if it does work, then I have to...   \n",
       "\n",
       "                                               title  \n",
       "2  I hate it so much when you try and express you...  \n",
       "3  You ever get asked the \"where do you see yours...  \n",
       "4  I'm tired of caring about other people, but no...  \n",
       "5  I went to the hospital because I was having re...  \n",
       "6  I secretly don’t want my antidepressant medica...  "
      ]
     },
     "execution_count": 11,
     "metadata": {},
     "output_type": "execute_result"
    }
   ],
   "source": [
    "df_depression_musk = df_depression.loc[:,['author_fullname','selftext','title']]\n",
    "df_depression_musk = df_depression_musk.iloc[2:,]\n",
    "df_depression_musk.head()"
   ]
  },
  {
   "cell_type": "code",
   "execution_count": 12,
   "metadata": {},
   "outputs": [],
   "source": [
    "#Remove away duplicate author_fullname\n",
    "\n",
    "df_anxiety_musk = df_anxiety_musk.drop_duplicates(subset = 'author_fullname')\n",
    "\n",
    "df_depression_musk = df_depression_musk.drop_duplicates(subset = 'author_fullname')\n"
   ]
  },
  {
   "cell_type": "code",
   "execution_count": 13,
   "metadata": {},
   "outputs": [
    {
     "name": "stdout",
     "output_type": "stream",
     "text": [
      "(1253, 104)\n",
      "(901, 3)\n"
     ]
    }
   ],
   "source": [
    "print(df_anxiety.shape)\n",
    "print(df_anxiety_musk.shape)"
   ]
  },
  {
   "cell_type": "code",
   "execution_count": 14,
   "metadata": {},
   "outputs": [
    {
     "name": "stdout",
     "output_type": "stream",
     "text": [
      "(1246, 100)\n",
      "(874, 3)\n"
     ]
    }
   ],
   "source": [
    "print(df_depression.shape)\n",
    "print(df_depression_musk.shape)"
   ]
  },
  {
   "cell_type": "code",
   "execution_count": 15,
   "metadata": {},
   "outputs": [
    {
     "data": {
      "text/plain": [
       "author_fullname     1\n",
       "selftext           31\n",
       "title               0\n",
       "dtype: int64"
      ]
     },
     "execution_count": 15,
     "metadata": {},
     "output_type": "execute_result"
    }
   ],
   "source": [
    "#Check for Null posts\n",
    "df_anxiety_musk.isnull().sum()"
   ]
  },
  {
   "cell_type": "code",
   "execution_count": 16,
   "metadata": {},
   "outputs": [
    {
     "data": {
      "text/plain": [
       "author_fullname    1\n",
       "selftext           1\n",
       "title              0\n",
       "dtype: int64"
      ]
     },
     "execution_count": 16,
     "metadata": {},
     "output_type": "execute_result"
    }
   ],
   "source": [
    "df_depression_musk.isnull().sum()"
   ]
  },
  {
   "cell_type": "code",
   "execution_count": 17,
   "metadata": {},
   "outputs": [],
   "source": [
    "#Remove away Null\n",
    "\n",
    "df_anxiety_musk.dropna(subset=['selftext'],axis=0,inplace=True)\n"
   ]
  },
  {
   "cell_type": "code",
   "execution_count": 18,
   "metadata": {},
   "outputs": [
    {
     "name": "stdout",
     "output_type": "stream",
     "text": [
      "<class 'pandas.core.frame.DataFrame'>\n",
      "Int64Index: 870 entries, 2 to 1002\n",
      "Data columns (total 3 columns):\n",
      " #   Column           Non-Null Count  Dtype \n",
      "---  ------           --------------  ----- \n",
      " 0   author_fullname  869 non-null    object\n",
      " 1   selftext         870 non-null    object\n",
      " 2   title            870 non-null    object\n",
      "dtypes: object(3)\n",
      "memory usage: 27.2+ KB\n"
     ]
    }
   ],
   "source": [
    "df_anxiety_musk.info()"
   ]
  },
  {
   "cell_type": "code",
   "execution_count": 19,
   "metadata": {},
   "outputs": [],
   "source": [
    "df_depression_musk.dropna(subset=['selftext'],axis=0,inplace=True)"
   ]
  },
  {
   "cell_type": "code",
   "execution_count": 20,
   "metadata": {},
   "outputs": [
    {
     "name": "stdout",
     "output_type": "stream",
     "text": [
      "<class 'pandas.core.frame.DataFrame'>\n",
      "Int64Index: 873 entries, 2 to 920\n",
      "Data columns (total 3 columns):\n",
      " #   Column           Non-Null Count  Dtype \n",
      "---  ------           --------------  ----- \n",
      " 0   author_fullname  872 non-null    object\n",
      " 1   selftext         873 non-null    object\n",
      " 2   title            873 non-null    object\n",
      "dtypes: object(3)\n",
      "memory usage: 27.3+ KB\n"
     ]
    }
   ],
   "source": [
    "df_depression_musk.info()"
   ]
  },
  {
   "cell_type": "markdown",
   "metadata": {},
   "source": [
    "Since we are concentrating our model based on the posts on Reddit therefore, it makes no sense to retain empty post in the DataFrame. But we are retaining 'author_fullname' as their post might not be empty and may provide valuable data. "
   ]
  },
  {
   "cell_type": "code",
   "execution_count": 21,
   "metadata": {},
   "outputs": [],
   "source": [
    "#Clean Anxiety Text\n",
    "anxiety_clean_post = []\n",
    "\n",
    "for text in df_anxiety_musk['selftext']:\n",
    "    anxiety_clean_post.append(preprocessing(text))\n",
    "    "
   ]
  },
  {
   "cell_type": "code",
   "execution_count": 48,
   "metadata": {},
   "outputs": [],
   "source": [
    "#Clean Depression Text\n",
    "depression_clean_post = []\n",
    "\n",
    "for text in df_depression_musk['selftext']:\n",
    "    depression_clean_post.append(preprocessing(text))\n"
   ]
  },
  {
   "cell_type": "code",
   "execution_count": 49,
   "metadata": {},
   "outputs": [],
   "source": [
    "df_anxiety_musk['selftext'] = anxiety_clean_post\n",
    "df_depression_musk['selftext'] = depression_clean_post"
   ]
  },
  {
   "cell_type": "code",
   "execution_count": 50,
   "metadata": {},
   "outputs": [],
   "source": [
    "#Create CSV for clean data\n",
    "\n",
    "df_anxiety_musk.to_csv('./Dataset/anxiety_clean.csv')\n",
    "df_depression_musk.to_csv('./Dataset/depression_dark_clean.csv')"
   ]
  },
  {
   "cell_type": "markdown",
   "metadata": {},
   "source": [
    "## EDA"
   ]
  },
  {
   "cell_type": "markdown",
   "metadata": {},
   "source": [
    "### Sentiment Analysis"
   ]
  },
  {
   "cell_type": "code",
   "execution_count": 32,
   "metadata": {},
   "outputs": [],
   "source": [
    "#Sentiment analysis between anxiety posts and depression posts\n",
    "\n",
    "sentiment = SentimentIntensityAnalyzer()"
   ]
  },
  {
   "cell_type": "code",
   "execution_count": 33,
   "metadata": {},
   "outputs": [],
   "source": [
    "anxiety_post_sentiment = []\n",
    "\n",
    "for text in df_anxiety_musk['selftext']:\n",
    "    score = {}\n",
    "    score['positive'] = sentiment.polarity_scores(text)['pos']\n",
    "    score['negative'] = sentiment.polarity_scores(text)['neg']\n",
    "    score['neutral'] = sentiment.polarity_scores(text)['neu']\n",
    "    score['compound'] = sentiment.polarity_scores(text)['compound']\n",
    "    \n",
    "    anxiety_post_sentiment.append(score)\n",
    "    \n",
    "#print(anxiety_post_sentiment)"
   ]
  },
  {
   "cell_type": "code",
   "execution_count": 34,
   "metadata": {},
   "outputs": [
    {
     "data": {
      "text/html": [
       "<div>\n",
       "<style scoped>\n",
       "    .dataframe tbody tr th:only-of-type {\n",
       "        vertical-align: middle;\n",
       "    }\n",
       "\n",
       "    .dataframe tbody tr th {\n",
       "        vertical-align: top;\n",
       "    }\n",
       "\n",
       "    .dataframe thead th {\n",
       "        text-align: right;\n",
       "    }\n",
       "</style>\n",
       "<table border=\"1\" class=\"dataframe\">\n",
       "  <thead>\n",
       "    <tr style=\"text-align: right;\">\n",
       "      <th></th>\n",
       "      <th>positive</th>\n",
       "      <th>negative</th>\n",
       "      <th>neutral</th>\n",
       "      <th>compound</th>\n",
       "    </tr>\n",
       "  </thead>\n",
       "  <tbody>\n",
       "    <tr>\n",
       "      <th>0</th>\n",
       "      <td>0.000</td>\n",
       "      <td>0.000</td>\n",
       "      <td>0.000</td>\n",
       "      <td>0.0000</td>\n",
       "    </tr>\n",
       "    <tr>\n",
       "      <th>1</th>\n",
       "      <td>0.230</td>\n",
       "      <td>0.210</td>\n",
       "      <td>0.560</td>\n",
       "      <td>0.0844</td>\n",
       "    </tr>\n",
       "    <tr>\n",
       "      <th>2</th>\n",
       "      <td>0.338</td>\n",
       "      <td>0.274</td>\n",
       "      <td>0.388</td>\n",
       "      <td>0.7184</td>\n",
       "    </tr>\n",
       "    <tr>\n",
       "      <th>3</th>\n",
       "      <td>0.172</td>\n",
       "      <td>0.326</td>\n",
       "      <td>0.503</td>\n",
       "      <td>-0.7236</td>\n",
       "    </tr>\n",
       "    <tr>\n",
       "      <th>4</th>\n",
       "      <td>0.074</td>\n",
       "      <td>0.527</td>\n",
       "      <td>0.399</td>\n",
       "      <td>-0.9886</td>\n",
       "    </tr>\n",
       "  </tbody>\n",
       "</table>\n",
       "</div>"
      ],
      "text/plain": [
       "   positive  negative  neutral  compound\n",
       "0     0.000     0.000    0.000    0.0000\n",
       "1     0.230     0.210    0.560    0.0844\n",
       "2     0.338     0.274    0.388    0.7184\n",
       "3     0.172     0.326    0.503   -0.7236\n",
       "4     0.074     0.527    0.399   -0.9886"
      ]
     },
     "execution_count": 34,
     "metadata": {},
     "output_type": "execute_result"
    }
   ],
   "source": [
    "#Create DataFrame for anxiety_post_sentiment\n",
    "\n",
    "df_anxiety_post_sentiment = pd.DataFrame(anxiety_post_sentiment)\n",
    "df_anxiety_post_sentiment.head()"
   ]
  },
  {
   "cell_type": "code",
   "execution_count": 35,
   "metadata": {},
   "outputs": [],
   "source": [
    "depression_post_sentiment = []\n",
    "\n",
    "for text in df_depression_musk['selftext']:\n",
    "    score = {}\n",
    "    score['positive'] = sentiment.polarity_scores(text)['pos']\n",
    "    score['negative'] = sentiment.polarity_scores(text)['neg']\n",
    "    score['neutral'] = sentiment.polarity_scores(text)['neu']\n",
    "    score['compound'] = sentiment.polarity_scores(text)['compound']\n",
    "    \n",
    "    depression_post_sentiment.append(score)\n",
    "    \n",
    "#print(depression_post_sentiment)"
   ]
  },
  {
   "cell_type": "code",
   "execution_count": 36,
   "metadata": {},
   "outputs": [
    {
     "data": {
      "text/html": [
       "<div>\n",
       "<style scoped>\n",
       "    .dataframe tbody tr th:only-of-type {\n",
       "        vertical-align: middle;\n",
       "    }\n",
       "\n",
       "    .dataframe tbody tr th {\n",
       "        vertical-align: top;\n",
       "    }\n",
       "\n",
       "    .dataframe thead th {\n",
       "        text-align: right;\n",
       "    }\n",
       "</style>\n",
       "<table border=\"1\" class=\"dataframe\">\n",
       "  <thead>\n",
       "    <tr style=\"text-align: right;\">\n",
       "      <th></th>\n",
       "      <th>positive</th>\n",
       "      <th>negative</th>\n",
       "      <th>neutral</th>\n",
       "      <th>compound</th>\n",
       "    </tr>\n",
       "  </thead>\n",
       "  <tbody>\n",
       "    <tr>\n",
       "      <th>0</th>\n",
       "      <td>0.253</td>\n",
       "      <td>0.220</td>\n",
       "      <td>0.528</td>\n",
       "      <td>0.6800</td>\n",
       "    </tr>\n",
       "    <tr>\n",
       "      <th>1</th>\n",
       "      <td>0.224</td>\n",
       "      <td>0.235</td>\n",
       "      <td>0.541</td>\n",
       "      <td>-0.8176</td>\n",
       "    </tr>\n",
       "    <tr>\n",
       "      <th>2</th>\n",
       "      <td>0.417</td>\n",
       "      <td>0.240</td>\n",
       "      <td>0.343</td>\n",
       "      <td>0.5719</td>\n",
       "    </tr>\n",
       "    <tr>\n",
       "      <th>3</th>\n",
       "      <td>0.037</td>\n",
       "      <td>0.431</td>\n",
       "      <td>0.532</td>\n",
       "      <td>-0.9768</td>\n",
       "    </tr>\n",
       "    <tr>\n",
       "      <th>4</th>\n",
       "      <td>0.327</td>\n",
       "      <td>0.197</td>\n",
       "      <td>0.476</td>\n",
       "      <td>0.8268</td>\n",
       "    </tr>\n",
       "  </tbody>\n",
       "</table>\n",
       "</div>"
      ],
      "text/plain": [
       "   positive  negative  neutral  compound\n",
       "0     0.253     0.220    0.528    0.6800\n",
       "1     0.224     0.235    0.541   -0.8176\n",
       "2     0.417     0.240    0.343    0.5719\n",
       "3     0.037     0.431    0.532   -0.9768\n",
       "4     0.327     0.197    0.476    0.8268"
      ]
     },
     "execution_count": 36,
     "metadata": {},
     "output_type": "execute_result"
    }
   ],
   "source": [
    "#Create DataFrame for depression_post_sentiment\n",
    "\n",
    "df_depression_post_sentiment = pd.DataFrame(depression_post_sentiment)\n",
    "df_depression_post_sentiment.head()"
   ]
  },
  {
   "cell_type": "code",
   "execution_count": 37,
   "metadata": {},
   "outputs": [
    {
     "data": {
      "image/png": "[encoded data removed]",
      "text/plain": [
       "<Figure size 720x720 with 1 Axes>"
      ]
     },
     "metadata": {
      "needs_background": "light"
     },
     "output_type": "display_data"
    }
   ],
   "source": [
    "#Plot out the sentiment Depression post VS Anxiety Post\n",
    "fig, ax = plt.subplots(1,1, figsize=(10,10))\n",
    "sns.distplot( df_anxiety_post_sentiment[\"compound\"] , color=\"skyblue\", label=\"Anxiety Post\",kde=False)\n",
    "sns.distplot( df_depression_post_sentiment[\"compound\"] , color=\"red\", label=\"Depression Post\",kde=False)\n",
    "plt.ylabel('Quantity')\n",
    "ax.legend();\n"
   ]
  },
  {
   "cell_type": "markdown",
   "metadata": {},
   "source": [
    "The sentiments between Depression posts and Anxiety posts are relatively similar. The sentiments between each sub Reddits are relatively extreme, they are either extremly positive with a compound score of 1 or extremely negative with a compound score of -1. "
   ]
  },
  {
   "cell_type": "markdown",
   "metadata": {},
   "source": [
    "### Top words(Anxiety)"
   ]
  },
  {
   "cell_type": "code",
   "execution_count": 42,
   "metadata": {},
   "outputs": [],
   "source": [
    "cvec = CountVectorizer(stop_words = 'english')"
   ]
  },
  {
   "cell_type": "code",
   "execution_count": 43,
   "metadata": {},
   "outputs": [
    {
     "data": {
      "text/html": [
       "<div>\n",
       "<style scoped>\n",
       "    .dataframe tbody tr th:only-of-type {\n",
       "        vertical-align: middle;\n",
       "    }\n",
       "\n",
       "    .dataframe tbody tr th {\n",
       "        vertical-align: top;\n",
       "    }\n",
       "\n",
       "    .dataframe thead th {\n",
       "        text-align: right;\n",
       "    }\n",
       "</style>\n",
       "<table border=\"1\" class=\"dataframe\">\n",
       "  <thead>\n",
       "    <tr style=\"text-align: right;\">\n",
       "      <th></th>\n",
       "      <th>00</th>\n",
       "      <th>000</th>\n",
       "      <th>000mg</th>\n",
       "      <th>00pm</th>\n",
       "      <th>01</th>\n",
       "      <th>02</th>\n",
       "      <th>02pm</th>\n",
       "      <th>05</th>\n",
       "      <th>10</th>\n",
       "      <th>100</th>\n",
       "      <th>...</th>\n",
       "      <th>yrs</th>\n",
       "      <th>yummy</th>\n",
       "      <th>zap</th>\n",
       "      <th>zapped</th>\n",
       "      <th>zealand</th>\n",
       "      <th>zero</th>\n",
       "      <th>zoloft</th>\n",
       "      <th>zombie</th>\n",
       "      <th>zone</th>\n",
       "      <th>迷宮物語</th>\n",
       "    </tr>\n",
       "  </thead>\n",
       "  <tbody>\n",
       "    <tr>\n",
       "      <th>0</th>\n",
       "      <td>0</td>\n",
       "      <td>0</td>\n",
       "      <td>0</td>\n",
       "      <td>0</td>\n",
       "      <td>0</td>\n",
       "      <td>0</td>\n",
       "      <td>0</td>\n",
       "      <td>0</td>\n",
       "      <td>0</td>\n",
       "      <td>0</td>\n",
       "      <td>...</td>\n",
       "      <td>0</td>\n",
       "      <td>0</td>\n",
       "      <td>0</td>\n",
       "      <td>0</td>\n",
       "      <td>0</td>\n",
       "      <td>0</td>\n",
       "      <td>0</td>\n",
       "      <td>0</td>\n",
       "      <td>0</td>\n",
       "      <td>0</td>\n",
       "    </tr>\n",
       "    <tr>\n",
       "      <th>1</th>\n",
       "      <td>0</td>\n",
       "      <td>0</td>\n",
       "      <td>0</td>\n",
       "      <td>0</td>\n",
       "      <td>0</td>\n",
       "      <td>0</td>\n",
       "      <td>0</td>\n",
       "      <td>0</td>\n",
       "      <td>0</td>\n",
       "      <td>0</td>\n",
       "      <td>...</td>\n",
       "      <td>0</td>\n",
       "      <td>0</td>\n",
       "      <td>0</td>\n",
       "      <td>0</td>\n",
       "      <td>0</td>\n",
       "      <td>0</td>\n",
       "      <td>0</td>\n",
       "      <td>0</td>\n",
       "      <td>0</td>\n",
       "      <td>0</td>\n",
       "    </tr>\n",
       "    <tr>\n",
       "      <th>2</th>\n",
       "      <td>0</td>\n",
       "      <td>0</td>\n",
       "      <td>0</td>\n",
       "      <td>0</td>\n",
       "      <td>0</td>\n",
       "      <td>0</td>\n",
       "      <td>0</td>\n",
       "      <td>0</td>\n",
       "      <td>0</td>\n",
       "      <td>0</td>\n",
       "      <td>...</td>\n",
       "      <td>0</td>\n",
       "      <td>0</td>\n",
       "      <td>0</td>\n",
       "      <td>0</td>\n",
       "      <td>0</td>\n",
       "      <td>0</td>\n",
       "      <td>0</td>\n",
       "      <td>0</td>\n",
       "      <td>0</td>\n",
       "      <td>0</td>\n",
       "    </tr>\n",
       "    <tr>\n",
       "      <th>3</th>\n",
       "      <td>0</td>\n",
       "      <td>0</td>\n",
       "      <td>0</td>\n",
       "      <td>0</td>\n",
       "      <td>0</td>\n",
       "      <td>0</td>\n",
       "      <td>0</td>\n",
       "      <td>0</td>\n",
       "      <td>0</td>\n",
       "      <td>0</td>\n",
       "      <td>...</td>\n",
       "      <td>0</td>\n",
       "      <td>0</td>\n",
       "      <td>0</td>\n",
       "      <td>0</td>\n",
       "      <td>0</td>\n",
       "      <td>0</td>\n",
       "      <td>0</td>\n",
       "      <td>0</td>\n",
       "      <td>0</td>\n",
       "      <td>0</td>\n",
       "    </tr>\n",
       "    <tr>\n",
       "      <th>4</th>\n",
       "      <td>0</td>\n",
       "      <td>0</td>\n",
       "      <td>0</td>\n",
       "      <td>0</td>\n",
       "      <td>0</td>\n",
       "      <td>0</td>\n",
       "      <td>0</td>\n",
       "      <td>0</td>\n",
       "      <td>0</td>\n",
       "      <td>0</td>\n",
       "      <td>...</td>\n",
       "      <td>0</td>\n",
       "      <td>0</td>\n",
       "      <td>0</td>\n",
       "      <td>0</td>\n",
       "      <td>0</td>\n",
       "      <td>0</td>\n",
       "      <td>0</td>\n",
       "      <td>0</td>\n",
       "      <td>0</td>\n",
       "      <td>0</td>\n",
       "    </tr>\n",
       "  </tbody>\n",
       "</table>\n",
       "<p>5 rows × 7575 columns</p>\n",
       "</div>"
      ],
      "text/plain": [
       "   00  000  000mg  00pm  01  02  02pm  05  10  100  ...  yrs  yummy  zap  \\\n",
       "0   0    0      0     0   0   0     0   0   0    0  ...    0      0    0   \n",
       "1   0    0      0     0   0   0     0   0   0    0  ...    0      0    0   \n",
       "2   0    0      0     0   0   0     0   0   0    0  ...    0      0    0   \n",
       "3   0    0      0     0   0   0     0   0   0    0  ...    0      0    0   \n",
       "4   0    0      0     0   0   0     0   0   0    0  ...    0      0    0   \n",
       "\n",
       "   zapped  zealand  zero  zoloft  zombie  zone  迷宮物語  \n",
       "0       0        0     0       0       0     0     0  \n",
       "1       0        0     0       0       0     0     0  \n",
       "2       0        0     0       0       0     0     0  \n",
       "3       0        0     0       0       0     0     0  \n",
       "4       0        0     0       0       0     0     0  \n",
       "\n",
       "[5 rows x 7575 columns]"
      ]
     },
     "execution_count": 43,
     "metadata": {},
     "output_type": "execute_result"
    }
   ],
   "source": [
    "#Anxiety Posts cvec\n",
    "df_anxiety_post_cv = pd.DataFrame(cvec.fit_transform(df_anxiety_musk['selftext']).todense(),columns=cvec.get_feature_names())\n",
    "df_anxiety_post_cv.head()"
   ]
  },
  {
   "cell_type": "code",
   "execution_count": 44,
   "metadata": {},
   "outputs": [],
   "source": [
    "df_anxiety_post_cv.drop(['wa','ha','ve','don'],axis=1,inplace=True)"
   ]
  },
  {
   "cell_type": "code",
   "execution_count": 45,
   "metadata": {},
   "outputs": [],
   "source": [
    "top_words_anxiety_post = df_anxiety_post_cv.sum().sort_values(ascending=False).head(20)\n"
   ]
  },
  {
   "cell_type": "code",
   "execution_count": 46,
   "metadata": {},
   "outputs": [
    {
     "data": {
      "text/html": [
       "<div>\n",
       "<style scoped>\n",
       "    .dataframe tbody tr th:only-of-type {\n",
       "        vertical-align: middle;\n",
       "    }\n",
       "\n",
       "    .dataframe tbody tr th {\n",
       "        vertical-align: top;\n",
       "    }\n",
       "\n",
       "    .dataframe thead th {\n",
       "        text-align: right;\n",
       "    }\n",
       "</style>\n",
       "<table border=\"1\" class=\"dataframe\">\n",
       "  <thead>\n",
       "    <tr style=\"text-align: right;\">\n",
       "      <th></th>\n",
       "      <th>count</th>\n",
       "      <th>word</th>\n",
       "      <th>frequency</th>\n",
       "    </tr>\n",
       "  </thead>\n",
       "  <tbody>\n",
       "    <tr>\n",
       "      <th>0</th>\n",
       "      <td>1062</td>\n",
       "      <td>anxiety</td>\n",
       "      <td>14.027209</td>\n",
       "    </tr>\n",
       "    <tr>\n",
       "      <th>1</th>\n",
       "      <td>1034</td>\n",
       "      <td>just</td>\n",
       "      <td>13.657377</td>\n",
       "    </tr>\n",
       "    <tr>\n",
       "      <th>2</th>\n",
       "      <td>1007</td>\n",
       "      <td>like</td>\n",
       "      <td>13.300753</td>\n",
       "    </tr>\n",
       "    <tr>\n",
       "      <th>3</th>\n",
       "      <td>839</td>\n",
       "      <td>feel</td>\n",
       "      <td>11.081759</td>\n",
       "    </tr>\n",
       "    <tr>\n",
       "      <th>4</th>\n",
       "      <td>617</td>\n",
       "      <td>know</td>\n",
       "      <td>8.149518</td>\n",
       "    </tr>\n",
       "    <tr>\n",
       "      <th>5</th>\n",
       "      <td>545</td>\n",
       "      <td>really</td>\n",
       "      <td>7.198521</td>\n",
       "    </tr>\n",
       "    <tr>\n",
       "      <th>6</th>\n",
       "      <td>479</td>\n",
       "      <td>time</td>\n",
       "      <td>6.326773</td>\n",
       "    </tr>\n",
       "    <tr>\n",
       "      <th>7</th>\n",
       "      <td>423</td>\n",
       "      <td>people</td>\n",
       "      <td>5.587109</td>\n",
       "    </tr>\n",
       "    <tr>\n",
       "      <th>8</th>\n",
       "      <td>358</td>\n",
       "      <td>want</td>\n",
       "      <td>4.728570</td>\n",
       "    </tr>\n",
       "    <tr>\n",
       "      <th>9</th>\n",
       "      <td>341</td>\n",
       "      <td>think</td>\n",
       "      <td>4.504029</td>\n",
       "    </tr>\n",
       "    <tr>\n",
       "      <th>10</th>\n",
       "      <td>324</td>\n",
       "      <td>going</td>\n",
       "      <td>4.279488</td>\n",
       "    </tr>\n",
       "    <tr>\n",
       "      <th>11</th>\n",
       "      <td>311</td>\n",
       "      <td>work</td>\n",
       "      <td>4.107780</td>\n",
       "    </tr>\n",
       "    <tr>\n",
       "      <th>12</th>\n",
       "      <td>303</td>\n",
       "      <td>things</td>\n",
       "      <td>4.002113</td>\n",
       "    </tr>\n",
       "    <tr>\n",
       "      <th>13</th>\n",
       "      <td>287</td>\n",
       "      <td>day</td>\n",
       "      <td>3.790781</td>\n",
       "    </tr>\n",
       "    <tr>\n",
       "      <th>14</th>\n",
       "      <td>285</td>\n",
       "      <td>feeling</td>\n",
       "      <td>3.764364</td>\n",
       "    </tr>\n",
       "    <tr>\n",
       "      <th>15</th>\n",
       "      <td>282</td>\n",
       "      <td>panic</td>\n",
       "      <td>3.724739</td>\n",
       "    </tr>\n",
       "    <tr>\n",
       "      <th>16</th>\n",
       "      <td>275</td>\n",
       "      <td>life</td>\n",
       "      <td>3.632281</td>\n",
       "    </tr>\n",
       "    <tr>\n",
       "      <th>17</th>\n",
       "      <td>272</td>\n",
       "      <td>help</td>\n",
       "      <td>3.592656</td>\n",
       "    </tr>\n",
       "    <tr>\n",
       "      <th>18</th>\n",
       "      <td>232</td>\n",
       "      <td>job</td>\n",
       "      <td>3.064324</td>\n",
       "    </tr>\n",
       "    <tr>\n",
       "      <th>19</th>\n",
       "      <td>226</td>\n",
       "      <td>bad</td>\n",
       "      <td>2.985075</td>\n",
       "    </tr>\n",
       "  </tbody>\n",
       "</table>\n",
       "</div>"
      ],
      "text/plain": [
       "    count     word  frequency\n",
       "0    1062  anxiety  14.027209\n",
       "1    1034     just  13.657377\n",
       "2    1007     like  13.300753\n",
       "3     839     feel  11.081759\n",
       "4     617     know   8.149518\n",
       "5     545   really   7.198521\n",
       "6     479     time   6.326773\n",
       "7     423   people   5.587109\n",
       "8     358     want   4.728570\n",
       "9     341    think   4.504029\n",
       "10    324    going   4.279488\n",
       "11    311     work   4.107780\n",
       "12    303   things   4.002113\n",
       "13    287      day   3.790781\n",
       "14    285  feeling   3.764364\n",
       "15    282    panic   3.724739\n",
       "16    275     life   3.632281\n",
       "17    272     help   3.592656\n",
       "18    232      job   3.064324\n",
       "19    226      bad   2.985075"
      ]
     },
     "execution_count": 46,
     "metadata": {},
     "output_type": "execute_result"
    }
   ],
   "source": [
    "#Top words DataFrame for Anxiety post\n",
    "df_top_words_anxiety_post = top_words_anxiety_post.to_frame(name='count')\n",
    "df_top_words_anxiety_post['word'] = df_top_words_anxiety_post.index\n",
    "df_top_words_anxiety_post.reset_index(drop=True, inplace=True)\n",
    "df_top_words_anxiety_post['frequency'] = df_top_words_anxiety_post['count'] / len(df_anxiety_post_cv.columns) * 100\n",
    "\n",
    "df_top_words_anxiety_post"
   ]
  },
  {
   "cell_type": "code",
   "execution_count": 47,
   "metadata": {},
   "outputs": [
    {
     "data": {
      "image/png": "[encoded data removed]",
      "text/plain": [
       "<Figure size 1440x720 with 1 Axes>"
      ]
     },
     "metadata": {
      "needs_background": "light"
     },
     "output_type": "display_data"
    }
   ],
   "source": [
    "#Plot of Anxiety post\n",
    "fig = plt.figure(figsize=(20,10))\n",
    "plt.title('Anxiety Posts: Top 20 Words',fontsize=25)\n",
    "\n",
    "sns.barplot(x='frequency',y='word',data=df_top_words_anxiety_post)\n",
    "\n",
    "plt.xlabel('frequency (%)',fontsize=20)\n",
    "plt.ylabel('word',fontsize=20)\n",
    "plt.tick_params(labelsize=15)\n"
   ]
  },
  {
   "cell_type": "markdown",
   "metadata": {},
   "source": [
    "Words like 'anxiety, people, time' have one of the highest frequencies within anxiety posts. They have a frequeny rate of 6-14% and they are relevant to the topic of anxiety as well.  "
   ]
  },
  {
   "cell_type": "markdown",
   "metadata": {},
   "source": [
    "### Top words(Depression)"
   ]
  },
  {
   "cell_type": "code",
   "execution_count": 55,
   "metadata": {},
   "outputs": [
    {
     "data": {
      "text/html": [
       "<div>\n",
       "<style scoped>\n",
       "    .dataframe tbody tr th:only-of-type {\n",
       "        vertical-align: middle;\n",
       "    }\n",
       "\n",
       "    .dataframe tbody tr th {\n",
       "        vertical-align: top;\n",
       "    }\n",
       "\n",
       "    .dataframe thead th {\n",
       "        text-align: right;\n",
       "    }\n",
       "</style>\n",
       "<table border=\"1\" class=\"dataframe\">\n",
       "  <thead>\n",
       "    <tr style=\"text-align: right;\">\n",
       "      <th></th>\n",
       "      <th>aaaaaaaaaaaaaaaaaaaaaaaaaaaaaaaaaaaaaaaaaaaaaaaaaaaaaaaaaaaaaaaaaaaaaaaaaaaaaaaaaa</th>\n",
       "      <th>aback</th>\n",
       "      <th>abandoment</th>\n",
       "      <th>abandon</th>\n",
       "      <th>abandoned</th>\n",
       "      <th>abandoning</th>\n",
       "      <th>abandonment</th>\n",
       "      <th>abcesses</th>\n",
       "      <th>abdominal</th>\n",
       "      <th>abide</th>\n",
       "      <th>...</th>\n",
       "      <th>yr</th>\n",
       "      <th>zapped</th>\n",
       "      <th>zero</th>\n",
       "      <th>zest</th>\n",
       "      <th>zinc</th>\n",
       "      <th>zoloft</th>\n",
       "      <th>zombie</th>\n",
       "      <th>zombify</th>\n",
       "      <th>zone</th>\n",
       "      <th>zoned</th>\n",
       "    </tr>\n",
       "  </thead>\n",
       "  <tbody>\n",
       "    <tr>\n",
       "      <th>0</th>\n",
       "      <td>0</td>\n",
       "      <td>0</td>\n",
       "      <td>0</td>\n",
       "      <td>0</td>\n",
       "      <td>0</td>\n",
       "      <td>0</td>\n",
       "      <td>0</td>\n",
       "      <td>0</td>\n",
       "      <td>0</td>\n",
       "      <td>0</td>\n",
       "      <td>...</td>\n",
       "      <td>0</td>\n",
       "      <td>0</td>\n",
       "      <td>0</td>\n",
       "      <td>0</td>\n",
       "      <td>0</td>\n",
       "      <td>0</td>\n",
       "      <td>0</td>\n",
       "      <td>0</td>\n",
       "      <td>0</td>\n",
       "      <td>0</td>\n",
       "    </tr>\n",
       "    <tr>\n",
       "      <th>1</th>\n",
       "      <td>0</td>\n",
       "      <td>0</td>\n",
       "      <td>0</td>\n",
       "      <td>0</td>\n",
       "      <td>0</td>\n",
       "      <td>0</td>\n",
       "      <td>0</td>\n",
       "      <td>0</td>\n",
       "      <td>0</td>\n",
       "      <td>0</td>\n",
       "      <td>...</td>\n",
       "      <td>0</td>\n",
       "      <td>0</td>\n",
       "      <td>0</td>\n",
       "      <td>0</td>\n",
       "      <td>0</td>\n",
       "      <td>0</td>\n",
       "      <td>0</td>\n",
       "      <td>0</td>\n",
       "      <td>0</td>\n",
       "      <td>0</td>\n",
       "    </tr>\n",
       "    <tr>\n",
       "      <th>2</th>\n",
       "      <td>0</td>\n",
       "      <td>0</td>\n",
       "      <td>0</td>\n",
       "      <td>0</td>\n",
       "      <td>0</td>\n",
       "      <td>0</td>\n",
       "      <td>0</td>\n",
       "      <td>0</td>\n",
       "      <td>0</td>\n",
       "      <td>0</td>\n",
       "      <td>...</td>\n",
       "      <td>0</td>\n",
       "      <td>0</td>\n",
       "      <td>0</td>\n",
       "      <td>0</td>\n",
       "      <td>0</td>\n",
       "      <td>0</td>\n",
       "      <td>0</td>\n",
       "      <td>0</td>\n",
       "      <td>0</td>\n",
       "      <td>0</td>\n",
       "    </tr>\n",
       "    <tr>\n",
       "      <th>3</th>\n",
       "      <td>0</td>\n",
       "      <td>0</td>\n",
       "      <td>0</td>\n",
       "      <td>0</td>\n",
       "      <td>0</td>\n",
       "      <td>0</td>\n",
       "      <td>0</td>\n",
       "      <td>0</td>\n",
       "      <td>0</td>\n",
       "      <td>0</td>\n",
       "      <td>...</td>\n",
       "      <td>0</td>\n",
       "      <td>0</td>\n",
       "      <td>0</td>\n",
       "      <td>0</td>\n",
       "      <td>0</td>\n",
       "      <td>0</td>\n",
       "      <td>0</td>\n",
       "      <td>0</td>\n",
       "      <td>0</td>\n",
       "      <td>0</td>\n",
       "    </tr>\n",
       "    <tr>\n",
       "      <th>4</th>\n",
       "      <td>0</td>\n",
       "      <td>0</td>\n",
       "      <td>0</td>\n",
       "      <td>0</td>\n",
       "      <td>0</td>\n",
       "      <td>0</td>\n",
       "      <td>0</td>\n",
       "      <td>0</td>\n",
       "      <td>0</td>\n",
       "      <td>0</td>\n",
       "      <td>...</td>\n",
       "      <td>0</td>\n",
       "      <td>0</td>\n",
       "      <td>0</td>\n",
       "      <td>0</td>\n",
       "      <td>0</td>\n",
       "      <td>0</td>\n",
       "      <td>0</td>\n",
       "      <td>0</td>\n",
       "      <td>0</td>\n",
       "      <td>0</td>\n",
       "    </tr>\n",
       "  </tbody>\n",
       "</table>\n",
       "<p>5 rows × 6892 columns</p>\n",
       "</div>"
      ],
      "text/plain": [
       "   aaaaaaaaaaaaaaaaaaaaaaaaaaaaaaaaaaaaaaaaaaaaaaaaaaaaaaaaaaaaaaaaaaaaaaaaaaaaaaaaaa  \\\n",
       "0                                                  0                                    \n",
       "1                                                  0                                    \n",
       "2                                                  0                                    \n",
       "3                                                  0                                    \n",
       "4                                                  0                                    \n",
       "\n",
       "   aback  abandoment  abandon  abandoned  abandoning  abandonment  abcesses  \\\n",
       "0      0           0        0          0           0            0         0   \n",
       "1      0           0        0          0           0            0         0   \n",
       "2      0           0        0          0           0            0         0   \n",
       "3      0           0        0          0           0            0         0   \n",
       "4      0           0        0          0           0            0         0   \n",
       "\n",
       "   abdominal  abide  ...  yr  zapped  zero  zest  zinc  zoloft  zombie  \\\n",
       "0          0      0  ...   0       0     0     0     0       0       0   \n",
       "1          0      0  ...   0       0     0     0     0       0       0   \n",
       "2          0      0  ...   0       0     0     0     0       0       0   \n",
       "3          0      0  ...   0       0     0     0     0       0       0   \n",
       "4          0      0  ...   0       0     0     0     0       0       0   \n",
       "\n",
       "   zombify  zone  zoned  \n",
       "0        0     0      0  \n",
       "1        0     0      0  \n",
       "2        0     0      0  \n",
       "3        0     0      0  \n",
       "4        0     0      0  \n",
       "\n",
       "[5 rows x 6892 columns]"
      ]
     },
     "execution_count": 55,
     "metadata": {},
     "output_type": "execute_result"
    }
   ],
   "source": [
    "#Depression Posts cvec\n",
    "df_depression_post_cv = pd.DataFrame(cvec.fit_transform(df_depression_musk['selftext']).todense(),columns=cvec.get_feature_names())\n",
    "df_depression_post_cv.head()"
   ]
  },
  {
   "cell_type": "code",
   "execution_count": 56,
   "metadata": {},
   "outputs": [],
   "source": [
    "df_depression_post_cv.drop(['aaaaaaaaaaaaaaaaaaaaaaaaaaaaaaaaaaaaaaaaaaaaaaaaaaaaaaaaaaaaaaaaaaaaaaaaaaaaaaaaaa','wa','ha'],axis=1,inplace=True)"
   ]
  },
  {
   "cell_type": "code",
   "execution_count": 57,
   "metadata": {},
   "outputs": [],
   "source": [
    "df_top_words_depression_post = df_depression_post_cv.sum().sort_values(ascending=False).head(20)"
   ]
  },
  {
   "cell_type": "code",
   "execution_count": 58,
   "metadata": {},
   "outputs": [
    {
     "data": {
      "text/html": [
       "<div>\n",
       "<style scoped>\n",
       "    .dataframe tbody tr th:only-of-type {\n",
       "        vertical-align: middle;\n",
       "    }\n",
       "\n",
       "    .dataframe tbody tr th {\n",
       "        vertical-align: top;\n",
       "    }\n",
       "\n",
       "    .dataframe thead th {\n",
       "        text-align: right;\n",
       "    }\n",
       "</style>\n",
       "<table border=\"1\" class=\"dataframe\">\n",
       "  <thead>\n",
       "    <tr style=\"text-align: right;\">\n",
       "      <th></th>\n",
       "      <th>count</th>\n",
       "      <th>word</th>\n",
       "      <th>frequency</th>\n",
       "    </tr>\n",
       "  </thead>\n",
       "  <tbody>\n",
       "    <tr>\n",
       "      <th>0</th>\n",
       "      <td>1167</td>\n",
       "      <td>like</td>\n",
       "      <td>16.940049</td>\n",
       "    </tr>\n",
       "    <tr>\n",
       "      <th>1</th>\n",
       "      <td>1124</td>\n",
       "      <td>feel</td>\n",
       "      <td>16.315866</td>\n",
       "    </tr>\n",
       "    <tr>\n",
       "      <th>2</th>\n",
       "      <td>805</td>\n",
       "      <td>know</td>\n",
       "      <td>11.685295</td>\n",
       "    </tr>\n",
       "    <tr>\n",
       "      <th>3</th>\n",
       "      <td>681</td>\n",
       "      <td>life</td>\n",
       "      <td>9.885324</td>\n",
       "    </tr>\n",
       "    <tr>\n",
       "      <th>4</th>\n",
       "      <td>677</td>\n",
       "      <td>time</td>\n",
       "      <td>9.827261</td>\n",
       "    </tr>\n",
       "    <tr>\n",
       "      <th>5</th>\n",
       "      <td>674</td>\n",
       "      <td>want</td>\n",
       "      <td>9.783713</td>\n",
       "    </tr>\n",
       "    <tr>\n",
       "      <th>6</th>\n",
       "      <td>486</td>\n",
       "      <td>people</td>\n",
       "      <td>7.054725</td>\n",
       "    </tr>\n",
       "    <tr>\n",
       "      <th>7</th>\n",
       "      <td>485</td>\n",
       "      <td>thing</td>\n",
       "      <td>7.040209</td>\n",
       "    </tr>\n",
       "    <tr>\n",
       "      <th>8</th>\n",
       "      <td>484</td>\n",
       "      <td>year</td>\n",
       "      <td>7.025693</td>\n",
       "    </tr>\n",
       "    <tr>\n",
       "      <th>9</th>\n",
       "      <td>480</td>\n",
       "      <td>day</td>\n",
       "      <td>6.967630</td>\n",
       "    </tr>\n",
       "    <tr>\n",
       "      <th>10</th>\n",
       "      <td>477</td>\n",
       "      <td>friend</td>\n",
       "      <td>6.924082</td>\n",
       "    </tr>\n",
       "    <tr>\n",
       "      <th>11</th>\n",
       "      <td>477</td>\n",
       "      <td>really</td>\n",
       "      <td>6.924082</td>\n",
       "    </tr>\n",
       "    <tr>\n",
       "      <th>12</th>\n",
       "      <td>400</td>\n",
       "      <td>make</td>\n",
       "      <td>5.806358</td>\n",
       "    </tr>\n",
       "    <tr>\n",
       "      <th>13</th>\n",
       "      <td>373</td>\n",
       "      <td>depression</td>\n",
       "      <td>5.414429</td>\n",
       "    </tr>\n",
       "    <tr>\n",
       "      <th>14</th>\n",
       "      <td>364</td>\n",
       "      <td>think</td>\n",
       "      <td>5.283786</td>\n",
       "    </tr>\n",
       "    <tr>\n",
       "      <th>15</th>\n",
       "      <td>348</td>\n",
       "      <td>going</td>\n",
       "      <td>5.051531</td>\n",
       "    </tr>\n",
       "    <tr>\n",
       "      <th>16</th>\n",
       "      <td>329</td>\n",
       "      <td>help</td>\n",
       "      <td>4.775729</td>\n",
       "    </tr>\n",
       "    <tr>\n",
       "      <th>17</th>\n",
       "      <td>324</td>\n",
       "      <td>thought</td>\n",
       "      <td>4.703150</td>\n",
       "    </tr>\n",
       "    <tr>\n",
       "      <th>18</th>\n",
       "      <td>295</td>\n",
       "      <td>feeling</td>\n",
       "      <td>4.282189</td>\n",
       "    </tr>\n",
       "    <tr>\n",
       "      <th>19</th>\n",
       "      <td>293</td>\n",
       "      <td>way</td>\n",
       "      <td>4.253157</td>\n",
       "    </tr>\n",
       "  </tbody>\n",
       "</table>\n",
       "</div>"
      ],
      "text/plain": [
       "    count        word  frequency\n",
       "0    1167        like  16.940049\n",
       "1    1124        feel  16.315866\n",
       "2     805        know  11.685295\n",
       "3     681        life   9.885324\n",
       "4     677        time   9.827261\n",
       "5     674        want   9.783713\n",
       "6     486      people   7.054725\n",
       "7     485       thing   7.040209\n",
       "8     484        year   7.025693\n",
       "9     480         day   6.967630\n",
       "10    477      friend   6.924082\n",
       "11    477      really   6.924082\n",
       "12    400        make   5.806358\n",
       "13    373  depression   5.414429\n",
       "14    364       think   5.283786\n",
       "15    348       going   5.051531\n",
       "16    329        help   4.775729\n",
       "17    324     thought   4.703150\n",
       "18    295     feeling   4.282189\n",
       "19    293         way   4.253157"
      ]
     },
     "execution_count": 58,
     "metadata": {},
     "output_type": "execute_result"
    }
   ],
   "source": [
    "#Top words DataFrame for Depression post\n",
    "df_top_words_depression_post = df_top_words_depression_post.to_frame(name='count')\n",
    "df_top_words_depression_post['word'] = df_top_words_depression_post.index\n",
    "df_top_words_depression_post.reset_index(drop=True, inplace=True)\n",
    "df_top_words_depression_post['frequency'] = df_top_words_depression_post['count'] / len(df_depression_post_cv.columns) * 100\n",
    "\n",
    "df_top_words_depression_post"
   ]
  },
  {
   "cell_type": "code",
   "execution_count": 59,
   "metadata": {},
   "outputs": [
    {
     "data": {
      "image/png": "[encoded data removed]",
      "text/plain": [
       "<Figure size 1440x720 with 1 Axes>"
      ]
     },
     "metadata": {
      "needs_background": "light"
     },
     "output_type": "display_data"
    }
   ],
   "source": [
    "#Plot of depression post\n",
    "fig = plt.figure(figsize=(20,10))\n",
    "plt.title('Depression Posts: Top 20 Words',fontsize=25)\n",
    "\n",
    "sns.barplot(x='frequency',y='word',data=df_top_words_depression_post)\n",
    "\n",
    "plt.xlabel('frequency (%)',fontsize=20)\n",
    "plt.ylabel('word',fontsize=20)\n",
    "plt.tick_params(labelsize=15)"
   ]
  },
  {
   "cell_type": "markdown",
   "metadata": {},
   "source": [
    "Words like 'life, like, feel' have one of the highest frequency rate of 10-16%. The top 20 common words in depression indicate similarity in words used between anxiety and depression posts. "
   ]
  },
  {
   "cell_type": "markdown",
   "metadata": {},
   "source": [
    "### Words Comparison"
   ]
  },
  {
   "cell_type": "code",
   "execution_count": 60,
   "metadata": {},
   "outputs": [
    {
     "data": {
      "image/png": "[encoded data removed]",
      "text/plain": [
       "<Figure size 720x720 with 1 Axes>"
      ]
     },
     "metadata": {},
     "output_type": "display_data"
    }
   ],
   "source": [
    "#Anxiety posts VS Depression posts\n",
    "plt.figure(figsize=(10,10))\n",
    "plt.title('Word Comparsion',fontsize=25)\n",
    "\n",
    "set_a = set(df_top_words_anxiety_post['word'][:20])\n",
    "set_b = set(df_top_words_depression_post['word'][:20])\n",
    "\n",
    "venn = venn2([set_a,set_b],set_labels=['Anxiety Post','Depression Post'])\n",
    "\n",
    "venn.get_label_by_id('100').set_text('\\n'.join(map(str,set_a-set_b)))\n",
    "venn.get_label_by_id('110').set_text('\\n'.join(map(str,set_a&set_b)))\n",
    "venn.get_label_by_id('010').set_text('\\n'.join(map(str,set_b-set_a)))\n",
    "\n",
    "venn.get_label_by_id('100').set_size(13)\n",
    "venn.get_label_by_id('110').set_size(13)\n",
    "venn.get_label_by_id('010').set_size(13)\n",
    "venn.get_label_by_id('A').set_size(20)\n",
    "venn.get_label_by_id('B').set_size(20)\n"
   ]
  },
  {
   "cell_type": "markdown",
   "metadata": {},
   "source": [
    "Above venn diagram shows the top 20 words appearing in both Anxiety and Depression posts. It clearly indicates the common and distinct words that appear between both sub Reddits. "
   ]
  },
  {
   "cell_type": "markdown",
   "metadata": {},
   "source": [
    "## Target and feature (Post)"
   ]
  },
  {
   "cell_type": "code",
   "execution_count": 62,
   "metadata": {},
   "outputs": [
    {
     "data": {
      "text/html": [
       "<div>\n",
       "<style scoped>\n",
       "    .dataframe tbody tr th:only-of-type {\n",
       "        vertical-align: middle;\n",
       "    }\n",
       "\n",
       "    .dataframe tbody tr th {\n",
       "        vertical-align: top;\n",
       "    }\n",
       "\n",
       "    .dataframe thead th {\n",
       "        text-align: right;\n",
       "    }\n",
       "</style>\n",
       "<table border=\"1\" class=\"dataframe\">\n",
       "  <thead>\n",
       "    <tr style=\"text-align: right;\">\n",
       "      <th></th>\n",
       "      <th>author_fullname</th>\n",
       "      <th>selftext</th>\n",
       "      <th>title</th>\n",
       "    </tr>\n",
       "  </thead>\n",
       "  <tbody>\n",
       "    <tr>\n",
       "      <th>1738</th>\n",
       "      <td>t2_en5ic</td>\n",
       "      <td>hi guy wanted know really awful vivid nightmar...</td>\n",
       "      <td>Nightmares</td>\n",
       "    </tr>\n",
       "    <tr>\n",
       "      <th>1739</th>\n",
       "      <td>t2_1sln3o50</td>\n",
       "      <td>time friend watching funny video laugh smile f...</td>\n",
       "      <td>I feel sad almost always</td>\n",
       "    </tr>\n",
       "    <tr>\n",
       "      <th>1740</th>\n",
       "      <td>t2_1d3nehrg</td>\n",
       "      <td>would like share situation presumming ha alrea...</td>\n",
       "      <td>No motivation in job related issues</td>\n",
       "    </tr>\n",
       "    <tr>\n",
       "      <th>1741</th>\n",
       "      <td>t2_1t70</td>\n",
       "      <td>understand people reply immediately op invitat...</td>\n",
       "      <td>Our most-broken and least-understood rules is ...</td>\n",
       "    </tr>\n",
       "    <tr>\n",
       "      <th>1742</th>\n",
       "      <td>t2_64qjj</td>\n",
       "      <td>welcome r depression check post place take mom...</td>\n",
       "      <td>Regular Check-In Post</td>\n",
       "    </tr>\n",
       "  </tbody>\n",
       "</table>\n",
       "</div>"
      ],
      "text/plain": [
       "     author_fullname                                           selftext  \\\n",
       "1738        t2_en5ic  hi guy wanted know really awful vivid nightmar...   \n",
       "1739     t2_1sln3o50  time friend watching funny video laugh smile f...   \n",
       "1740     t2_1d3nehrg  would like share situation presumming ha alrea...   \n",
       "1741         t2_1t70  understand people reply immediately op invitat...   \n",
       "1742        t2_64qjj  welcome r depression check post place take mom...   \n",
       "\n",
       "                                                  title  \n",
       "1738                                         Nightmares  \n",
       "1739                           I feel sad almost always  \n",
       "1740                No motivation in job related issues  \n",
       "1741  Our most-broken and least-understood rules is ...  \n",
       "1742                              Regular Check-In Post  "
      ]
     },
     "execution_count": 62,
     "metadata": {},
     "output_type": "execute_result"
    }
   ],
   "source": [
    "#Combining Anxiety post and Depression post\n",
    "col = ['author_fullname','selftext','title']\n",
    "\n",
    "df_post = pd.DataFrame(columns = col)\n",
    "df_post = df_post.append(df_anxiety_musk)\n",
    "df_post = df_post.append(df_depression_musk)\n",
    "\n",
    "df_post.reset_index(drop=True,inplace=True)\n",
    "\n",
    "df_post.tail()"
   ]
  },
  {
   "cell_type": "code",
   "execution_count": 63,
   "metadata": {
    "scrolled": true
   },
   "outputs": [
    {
     "name": "stderr",
     "output_type": "stream",
     "text": [
      "C:\\Users\\wilso\\anaconda3\\lib\\site-packages\\pandas\\core\\indexing.py:670: SettingWithCopyWarning: \n",
      "A value is trying to be set on a copy of a slice from a DataFrame\n",
      "\n",
      "See the caveats in the documentation: https://pandas.pydata.org/pandas-docs/stable/user_guide/indexing.html#returning-a-view-versus-a-copy\n",
      "  self._setitem_with_indexer(indexer, value)\n"
     ]
    },
    {
     "data": {
      "text/html": [
       "<div>\n",
       "<style scoped>\n",
       "    .dataframe tbody tr th:only-of-type {\n",
       "        vertical-align: middle;\n",
       "    }\n",
       "\n",
       "    .dataframe tbody tr th {\n",
       "        vertical-align: top;\n",
       "    }\n",
       "\n",
       "    .dataframe thead th {\n",
       "        text-align: right;\n",
       "    }\n",
       "</style>\n",
       "<table border=\"1\" class=\"dataframe\">\n",
       "  <thead>\n",
       "    <tr style=\"text-align: right;\">\n",
       "      <th></th>\n",
       "      <th>author_fullname</th>\n",
       "      <th>selftext</th>\n",
       "      <th>title</th>\n",
       "      <th>is_anxiety</th>\n",
       "    </tr>\n",
       "  </thead>\n",
       "  <tbody>\n",
       "    <tr>\n",
       "      <th>0</th>\n",
       "      <td>t2_e480f</td>\n",
       "      <td></td>\n",
       "      <td>Fuck company events that make you speak in fro...</td>\n",
       "      <td>1</td>\n",
       "    </tr>\n",
       "    <tr>\n",
       "      <th>1</th>\n",
       "      <td>t2_3m7qz4eg</td>\n",
       "      <td>depression make want stay bed sleep time alway...</td>\n",
       "      <td>Depression and anxiety together is the worst.</td>\n",
       "      <td>1</td>\n",
       "    </tr>\n",
       "    <tr>\n",
       "      <th>2</th>\n",
       "      <td>t2_510dlbra</td>\n",
       "      <td>constantly feel guilty think anything life ass...</td>\n",
       "      <td>I feel guilty about absolutely everything</td>\n",
       "      <td>1</td>\n",
       "    </tr>\n",
       "    <tr>\n",
       "      <th>3</th>\n",
       "      <td>t2_5rsqkiod</td>\n",
       "      <td>woah dumb never realized making suffer pressur...</td>\n",
       "      <td>I just realized that I'm the one whose putting...</td>\n",
       "      <td>1</td>\n",
       "    </tr>\n",
       "    <tr>\n",
       "      <th>4</th>\n",
       "      <td>t2_a6gjh</td>\n",
       "      <td>absolutely terrifying disturbing feel crazy so...</td>\n",
       "      <td>Does anyone else have really disturbing intrus...</td>\n",
       "      <td>1</td>\n",
       "    </tr>\n",
       "  </tbody>\n",
       "</table>\n",
       "</div>"
      ],
      "text/plain": [
       "  author_fullname                                           selftext  \\\n",
       "0        t2_e480f                                                      \n",
       "1     t2_3m7qz4eg  depression make want stay bed sleep time alway...   \n",
       "2     t2_510dlbra  constantly feel guilty think anything life ass...   \n",
       "3     t2_5rsqkiod  woah dumb never realized making suffer pressur...   \n",
       "4        t2_a6gjh  absolutely terrifying disturbing feel crazy so...   \n",
       "\n",
       "                                               title  is_anxiety  \n",
       "0  Fuck company events that make you speak in fro...           1  \n",
       "1      Depression and anxiety together is the worst.           1  \n",
       "2          I feel guilty about absolutely everything           1  \n",
       "3  I just realized that I'm the one whose putting...           1  \n",
       "4  Does anyone else have really disturbing intrus...           1  "
      ]
     },
     "execution_count": 63,
     "metadata": {},
     "output_type": "execute_result"
    }
   ],
   "source": [
    "#Create target \n",
    "\n",
    "df_post['is_anxiety'] = 0\n",
    "df_post['is_anxiety'].iloc[0:869] = 1\n",
    "df_post.head()"
   ]
  },
  {
   "cell_type": "code",
   "execution_count": 64,
   "metadata": {},
   "outputs": [],
   "source": [
    "#Train test split\n",
    "\n",
    "X = df_post[['selftext']]\n",
    "y = df_post['is_anxiety']\n",
    "\n",
    "X_train,X_test,y_train,y_test = train_test_split(X,y,train_size=0.7,test_size=0.3,stratify=y,random_state=42)"
   ]
  },
  {
   "cell_type": "code",
   "execution_count": 65,
   "metadata": {},
   "outputs": [
    {
     "data": {
      "text/plain": [
       "((1220, 1), (1220,))"
      ]
     },
     "execution_count": 65,
     "metadata": {},
     "output_type": "execute_result"
    }
   ],
   "source": [
    "X_train.shape, y_train.shape"
   ]
  },
  {
   "cell_type": "code",
   "execution_count": 66,
   "metadata": {},
   "outputs": [
    {
     "data": {
      "text/plain": [
       "((523, 1), (523,))"
      ]
     },
     "execution_count": 66,
     "metadata": {},
     "output_type": "execute_result"
    }
   ],
   "source": [
    "X_test.shape, y_test.shape"
   ]
  },
  {
   "cell_type": "code",
   "execution_count": 67,
   "metadata": {},
   "outputs": [
    {
     "data": {
      "text/plain": [
       "1191    0\n",
       "1238    0\n",
       "1668    0\n",
       "1117    0\n",
       "358     1\n",
       "       ..\n",
       "1183    0\n",
       "831     1\n",
       "569     1\n",
       "1118    0\n",
       "1468    0\n",
       "Name: is_anxiety, Length: 1220, dtype: int64"
      ]
     },
     "execution_count": 67,
     "metadata": {},
     "output_type": "execute_result"
    }
   ],
   "source": [
    "y_train"
   ]
  },
  {
   "cell_type": "code",
   "execution_count": 68,
   "metadata": {},
   "outputs": [
    {
     "data": {
      "text/plain": [
       "0    0.501639\n",
       "1    0.498361\n",
       "Name: is_anxiety, dtype: float64"
      ]
     },
     "execution_count": 68,
     "metadata": {},
     "output_type": "execute_result"
    }
   ],
   "source": [
    "#Baseline score\n",
    "\n",
    "y_train.value_counts(normalize = True)"
   ]
  },
  {
   "cell_type": "markdown",
   "metadata": {},
   "source": [
    "## Logistic Regression"
   ]
  },
  {
   "cell_type": "code",
   "execution_count": 83,
   "metadata": {},
   "outputs": [],
   "source": [
    "cvec = CountVectorizer()\n",
    "\n",
    "X_train_cvec = pd.DataFrame(cvec.fit_transform(X_train['selftext']).todense(),columns=cvec.get_feature_names())\n",
    "X_test_cvec = pd.DataFrame(cvec.transform(X_test['selftext']).todense(),columns=cvec.get_feature_names())"
   ]
  },
  {
   "cell_type": "code",
   "execution_count": 84,
   "metadata": {},
   "outputs": [],
   "source": [
    "lr = LogisticRegression()\n",
    "\n",
    "lr_model = lr.fit(X_train_cvec,y_train)\n",
    "\n",
    "y_pred = lr.predict(X_test_cvec)"
   ]
  },
  {
   "cell_type": "code",
   "execution_count": 85,
   "metadata": {},
   "outputs": [
    {
     "data": {
      "text/plain": [
       "0.9942622950819672"
      ]
     },
     "execution_count": 85,
     "metadata": {},
     "output_type": "execute_result"
    }
   ],
   "source": [
    "#Train score\n",
    "lr_model.score(X_train_cvec,y_train)"
   ]
  },
  {
   "cell_type": "code",
   "execution_count": 86,
   "metadata": {},
   "outputs": [
    {
     "data": {
      "text/plain": [
       "0.8336520076481836"
      ]
     },
     "execution_count": 86,
     "metadata": {},
     "output_type": "execute_result"
    }
   ],
   "source": [
    "#Test score\n",
    "\n",
    "lr_model.score(X_test_cvec,y_test)"
   ]
  },
  {
   "cell_type": "markdown",
   "metadata": {},
   "source": [
    "### Confusion Matrix"
   ]
  },
  {
   "cell_type": "code",
   "execution_count": 87,
   "metadata": {},
   "outputs": [
    {
     "name": "stdout",
     "output_type": "stream",
     "text": [
      "True Negatives: 222\n",
      "False Positives: 40\n",
      "False Negatives: 47\n",
      "True Positives: 214\n",
      "\n",
      "\n",
      "Accuracy: 0.834\n",
      "Sensitivity: 0.82\n",
      "Specificity: 0.847\n",
      "Precision: 0.843\n"
     ]
    }
   ],
   "source": [
    "tn, fp, fn, tp = confusion_matrix(y_test, y_pred).ravel()\n",
    "\n",
    "#Confusion Matrix metrics\n",
    "\n",
    "accuracy = (tp+tn)/(tp+fp+fn+tn)\n",
    "sensitivity = tp/(tp+fn)\n",
    "specificity = tn/(tn+fp)\n",
    "precision = tp/(tp+fp)\n",
    "\n",
    "print(\"True Negatives: %s\" % tn)\n",
    "print(\"False Positives: %s\" % fp)\n",
    "print(\"False Negatives: %s\" % fn)\n",
    "print(\"True Positives: %s\" % tp)\n",
    "\n",
    "print('\\n')\n",
    "\n",
    "print('Accuracy:',round(accuracy,3))\n",
    "print('Sensitivity:',round(sensitivity,3))\n",
    "print('Specificity:',round(specificity,3))\n",
    "print('Precision:',round(precision,3))"
   ]
  },
  {
   "cell_type": "markdown",
   "metadata": {},
   "source": [
    "Logistic Regression test score accuracy has a better score than the baseline score accuracy."
   ]
  },
  {
   "cell_type": "markdown",
   "metadata": {},
   "source": [
    "### ROC Curve"
   ]
  },
  {
   "cell_type": "code",
   "execution_count": 88,
   "metadata": {},
   "outputs": [],
   "source": [
    "pred_proba = [i[1] for i in lr.predict_proba(X_test_cvec)] \n",
    "\n",
    "pred_df = pd.DataFrame({'true_values': y_test,\n",
    "                        'pred_probs':pred_proba})"
   ]
  },
  {
   "cell_type": "code",
   "execution_count": 89,
   "metadata": {},
   "outputs": [
    {
     "data": {
      "image/png": "[encoded data removed]",
      "text/plain": [
       "<Figure size 720x504 with 1 Axes>"
      ]
     },
     "metadata": {
      "needs_background": "light"
     },
     "output_type": "display_data"
    }
   ],
   "source": [
    "# Create figure.\n",
    "plt.figure(figsize = (10,7))\n",
    "\n",
    "# Create threshold values.\n",
    "thresholds = np.linspace(0, 1, 200)\n",
    "    \n",
    "# Calculate sensitivity & 1-specificity for each threshold between 0 and 1.\n",
    "tpr_values = [TPR(pred_df, 'true_values', 'pred_probs', prob) for prob in thresholds]\n",
    "fpr_values = [FPR(pred_df, 'true_values', 'pred_probs', prob) for prob in thresholds]\n",
    "\n",
    "# Plot ROC curve.\n",
    "plt.plot(fpr_values, # False Positive Rate on X-axis\n",
    "         tpr_values, # True Positive Rate on Y-axis\n",
    "         label='ROC Curve')\n",
    "\n",
    "# Plot baseline. (Perfect overlap between the two populations.)\n",
    "plt.plot(np.linspace(0, 1, 200),\n",
    "         np.linspace(0, 1, 200),\n",
    "         label='baseline',\n",
    "         linestyle='--')\n",
    "\n",
    "\n",
    "# Label axes.\n",
    "plt.title(f'ROC Curve with AUC = {round(roc_auc_score(pred_df[\"true_values\"], pred_df[\"pred_probs\"]),3)}', fontsize=22)\n",
    "plt.ylabel('Sensitivity', fontsize=18)\n",
    "plt.xlabel('1 - Specificity', fontsize=18)\n",
    "\n",
    "# Create legend.\n",
    "plt.legend(fontsize=16);"
   ]
  },
  {
   "cell_type": "markdown",
   "metadata": {},
   "source": [
    "## MultinomialNB"
   ]
  },
  {
   "cell_type": "code",
   "execution_count": 77,
   "metadata": {},
   "outputs": [],
   "source": [
    "nb = MultinomialNB()"
   ]
  },
  {
   "cell_type": "code",
   "execution_count": 65,
   "metadata": {},
   "outputs": [],
   "source": [
    "#Fit model\n",
    "nb.fit(X_train_cvec,y_train)\n",
    "\n",
    "y_pred = nb.predict(X_test_cvec)"
   ]
  },
  {
   "cell_type": "code",
   "execution_count": 66,
   "metadata": {},
   "outputs": [
    {
     "data": {
      "text/plain": [
       "0.9385245901639344"
      ]
     },
     "execution_count": 66,
     "metadata": {},
     "output_type": "execute_result"
    }
   ],
   "source": [
    "#Train score\n",
    "\n",
    "nb.score(X_train_cvec,y_train)"
   ]
  },
  {
   "cell_type": "code",
   "execution_count": 67,
   "metadata": {},
   "outputs": [
    {
     "data": {
      "text/plain": [
       "0.8068833652007649"
      ]
     },
     "execution_count": 67,
     "metadata": {},
     "output_type": "execute_result"
    }
   ],
   "source": [
    "#Test score\n",
    "\n",
    "nb.score(X_test_cvec,y_test)"
   ]
  },
  {
   "cell_type": "markdown",
   "metadata": {},
   "source": [
    "MultinomialNB has a poorer accuracy as compared to the logistic regression. "
   ]
  },
  {
   "cell_type": "markdown",
   "metadata": {},
   "source": [
    "### Confusion Matrix"
   ]
  },
  {
   "cell_type": "code",
   "execution_count": 68,
   "metadata": {},
   "outputs": [
    {
     "name": "stdout",
     "output_type": "stream",
     "text": [
      "True Negatives: 218\n",
      "False Positives: 44\n",
      "False Negatives: 57\n",
      "True Positives: 204\n",
      "\n",
      "\n",
      "Accuracy: 0.807\n",
      "Sensitivity: 0.782\n",
      "Specificity: 0.832\n",
      "Precision: 0.823\n"
     ]
    }
   ],
   "source": [
    "tn, fp, fn, tp = confusion_matrix(y_test, y_pred).ravel()\n",
    "\n",
    "#Confusion Matrix metrics\n",
    "\n",
    "accuracy = (tp+tn)/(tp+fp+fn+tn)\n",
    "sensitivity = tp/(tp+fn)\n",
    "specificity = tn/(tn+fp)\n",
    "precision = tp/(tp+fp)\n",
    "\n",
    "print(\"True Negatives: %s\" % tn)\n",
    "print(\"False Positives: %s\" % fp)\n",
    "print(\"False Negatives: %s\" % fn)\n",
    "print(\"True Positives: %s\" % tp)\n",
    "\n",
    "print('\\n')\n",
    "\n",
    "print('Accuracy:',round(accuracy,3))\n",
    "print('Sensitivity:',round(sensitivity,3))\n",
    "print('Specificity:',round(specificity,3))\n",
    "print('Precision:',round(precision,3))"
   ]
  },
  {
   "cell_type": "markdown",
   "metadata": {},
   "source": [
    "Overall Multinomial has a poorer accurancy as compared to a Logistic Regression model. "
   ]
  },
  {
   "cell_type": "markdown",
   "metadata": {},
   "source": [
    "### ROC Curve"
   ]
  },
  {
   "cell_type": "code",
   "execution_count": 69,
   "metadata": {},
   "outputs": [],
   "source": [
    "pred_proba = [i[1] for i in nb.predict_proba(X_test_cvec)] \n",
    "\n",
    "pred_df = pd.DataFrame({'true_values': y_test,\n",
    "                        'pred_probs':pred_proba})"
   ]
  },
  {
   "cell_type": "code",
   "execution_count": 70,
   "metadata": {},
   "outputs": [
    {
     "data": {
      "image/png": "[encoded data removed]",
      "text/plain": [
       "<Figure size 720x504 with 1 Axes>"
      ]
     },
     "metadata": {
      "needs_background": "light"
     },
     "output_type": "display_data"
    }
   ],
   "source": [
    "# Create figure.\n",
    "plt.figure(figsize = (10,7))\n",
    "\n",
    "# Create threshold values.\n",
    "thresholds = np.linspace(0, 1, 200)\n",
    "    \n",
    "# Calculate sensitivity & 1-specificity for each threshold between 0 and 1.\n",
    "tpr_values = [TPR(pred_df, 'true_values', 'pred_probs', prob) for prob in thresholds]\n",
    "fpr_values = [FPR(pred_df, 'true_values', 'pred_probs', prob) for prob in thresholds]\n",
    "\n",
    "# Plot ROC curve.\n",
    "plt.plot(fpr_values, # False Positive Rate on X-axis\n",
    "         tpr_values, # True Positive Rate on Y-axis\n",
    "         label='ROC Curve')\n",
    "\n",
    "# Plot baseline. (Perfect overlap between the two populations.)\n",
    "plt.plot(np.linspace(0, 1, 200),\n",
    "         np.linspace(0, 1, 200),\n",
    "         label='baseline',\n",
    "         linestyle='--')\n",
    "\n",
    "# Label axes.\n",
    "plt.title(f'ROC Curve with AUC = {round(roc_auc_score(pred_df[\"true_values\"], pred_df[\"pred_probs\"]),3)}', fontsize=22)\n",
    "plt.ylabel('Sensitivity', fontsize=18)\n",
    "plt.xlabel('1 - Specificity', fontsize=18)\n",
    "\n",
    "# Create legend.\n",
    "plt.legend(fontsize=16);"
   ]
  },
  {
   "cell_type": "markdown",
   "metadata": {},
   "source": [
    "## Gridsearch & Pipeline"
   ]
  },
  {
   "cell_type": "markdown",
   "metadata": {},
   "source": [
    "### Model 1 (CountVectorizer & LogisticRegression)"
   ]
  },
  {
   "cell_type": "code",
   "execution_count": 78,
   "metadata": {},
   "outputs": [],
   "source": [
    "#Model 1\n",
    "cvec = CountVectorizer()\n",
    "lr = LogisticRegression()"
   ]
  },
  {
   "cell_type": "code",
   "execution_count": 81,
   "metadata": {},
   "outputs": [
    {
     "data": {
      "text/plain": [
       "GridSearchCV(cv=5, error_score=nan,\n",
       "             estimator=Pipeline(memory=None,\n",
       "                                steps=[('cvec',\n",
       "                                        CountVectorizer(analyzer='word',\n",
       "                                                        binary=False,\n",
       "                                                        decode_error='strict',\n",
       "                                                        dtype=<class 'numpy.int64'>,\n",
       "                                                        encoding='utf-8',\n",
       "                                                        input='content',\n",
       "                                                        lowercase=True,\n",
       "                                                        max_df=1.0,\n",
       "                                                        max_features=None,\n",
       "                                                        min_df=1,\n",
       "                                                        ngram_range=(1, 1),\n",
       "                                                        preprocessor=None,\n",
       "                                                        stop_words=None,\n",
       "                                                        strip_accents=None,\n",
       "                                                        token_pattern='(?u)...\n",
       "                                                           multi_class='auto',\n",
       "                                                           n_jobs=None,\n",
       "                                                           penalty='l2',\n",
       "                                                           random_state=None,\n",
       "                                                           solver='lbfgs',\n",
       "                                                           tol=0.0001,\n",
       "                                                           verbose=0,\n",
       "                                                           warm_start=False))],\n",
       "                                verbose=False),\n",
       "             iid='deprecated', n_jobs=3,\n",
       "             param_grid={'cvec__max_df': array([0.8]),\n",
       "                         'cvec__max_features': range(4000, 5000, 6000),\n",
       "                         'cvec__ngram_range': [(1, 1), (1, 2), (1, 3)]},\n",
       "             pre_dispatch='2*n_jobs', refit=True, return_train_score=False,\n",
       "             scoring=None, verbose=0)"
      ]
     },
     "execution_count": 81,
     "metadata": {},
     "output_type": "execute_result"
    }
   ],
   "source": [
    "pipe = Pipeline([('cvec', cvec), ('lr', lr)])\n",
    "\n",
    "params = {\n",
    "        'cvec__max_features': range(4000,5000,6000),\n",
    "        'cvec__max_df': np.arange(0.8,0.9,0.95),\n",
    "        'cvec__ngram_range': [(1, 1), (1, 2),(1,3)],\n",
    "        }\n",
    "\n",
    "grid_model = GridSearchCV(\n",
    "    pipe,\n",
    "    params,\n",
    "    cv=5,\n",
    "    n_jobs=3,\n",
    ")\n",
    "\n",
    "grid_model.fit(X_train['selftext'], y_train)"
   ]
  },
  {
   "cell_type": "code",
   "execution_count": 82,
   "metadata": {},
   "outputs": [
    {
     "name": "stdout",
     "output_type": "stream",
     "text": [
      "score: 0.847036328871893\n",
      "best_score: 0.7991803278688525\n",
      "best_params: {'cvec__max_df': 0.8, 'cvec__max_features': 4000, 'cvec__ngram_range': (1, 2)}\n"
     ]
    }
   ],
   "source": [
    "score = grid_model.score(X_test['selftext'], y_test)\n",
    "print('score:',score)\n",
    "\n",
    "print('best_score:', grid_model.best_score_)\n",
    "print('best_params:', grid_model.best_params_)"
   ]
  },
  {
   "cell_type": "markdown",
   "metadata": {},
   "source": [
    "# Confusion matrix"
   ]
  },
  {
   "cell_type": "code",
   "execution_count": 87,
   "metadata": {},
   "outputs": [
    {
     "name": "stdout",
     "output_type": "stream",
     "text": [
      "True Negatives: 229\n",
      "False Positives: 33\n",
      "False Negatives: 47\n",
      "True Positives: 214\n",
      "\n",
      "\n",
      "Accuracy: 0.847\n",
      "Sensitivity: 0.82\n",
      "Specificity: 0.874\n",
      "Precision: 0.866\n"
     ]
    }
   ],
   "source": [
    "grid_pred = grid_model.predict(X_test['selftext'])\n",
    "\n",
    "tn, fp, fn, tp = confusion_matrix(y_test, grid_pred).ravel()\n",
    "\n",
    "#Confusion Matrix metrics\n",
    "\n",
    "accuracy = (tp+tn)/(tp+fp+fn+tn)\n",
    "sensitivity = tp/(tp+fn)\n",
    "specificity = tn/(tn+fp)\n",
    "precision = tp/(tp+fp)\n",
    "\n",
    "print(\"True Negatives: %s\" % tn)\n",
    "print(\"False Positives: %s\" % fp)\n",
    "print(\"False Negatives: %s\" % fn)\n",
    "print(\"True Positives: %s\" % tp)\n",
    "\n",
    "print('\\n')\n",
    "\n",
    "print('Accuracy:',round(accuracy,3))\n",
    "print('Sensitivity:',round(sensitivity,3))\n",
    "print('Specificity:',round(specificity,3))\n",
    "print('Precision:',round(precision,3))"
   ]
  },
  {
   "cell_type": "markdown",
   "metadata": {},
   "source": [
    "### ROC Curve"
   ]
  },
  {
   "cell_type": "code",
   "execution_count": 89,
   "metadata": {},
   "outputs": [],
   "source": [
    "pred_proba = [i[1] for i in grid_model.predict_proba(X_test['selftext'])] \n",
    "\n",
    "pred_df = pd.DataFrame({'true_values': y_test,\n",
    "                        'pred_probs':pred_proba})"
   ]
  },
  {
   "cell_type": "code",
   "execution_count": 90,
   "metadata": {},
   "outputs": [
    {
     "data": {
      "image/png": "[encoded data removed]",
      "text/plain": [
       "<Figure size 720x504 with 1 Axes>"
      ]
     },
     "metadata": {
      "needs_background": "light"
     },
     "output_type": "display_data"
    }
   ],
   "source": [
    "# Create figure.\n",
    "plt.figure(figsize = (10,7))\n",
    "\n",
    "# Create threshold values.\n",
    "thresholds = np.linspace(0, 1, 200)\n",
    "    \n",
    "# Calculate sensitivity & 1-specificity for each threshold between 0 and 1.\n",
    "tpr_values = [TPR(pred_df, 'true_values', 'pred_probs', prob) for prob in thresholds]\n",
    "fpr_values = [FPR(pred_df, 'true_values', 'pred_probs', prob) for prob in thresholds]\n",
    "\n",
    "# Plot ROC curve.\n",
    "plt.plot(fpr_values, # False Positive Rate on X-axis\n",
    "         tpr_values, # True Positive Rate on Y-axis\n",
    "         label='ROC Curve')\n",
    "\n",
    "# Plot baseline. (Perfect overlap between the two populations.)\n",
    "plt.plot(np.linspace(0, 1, 200),\n",
    "         np.linspace(0, 1, 200),\n",
    "         label='baseline',\n",
    "         linestyle='--')\n",
    "\n",
    "# Label axes.\n",
    "plt.title(f'ROC Curve with AUC = {round(roc_auc_score(pred_df[\"true_values\"], pred_df[\"pred_probs\"]),3)}', fontsize=22)\n",
    "plt.ylabel('Sensitivity', fontsize=18)\n",
    "plt.xlabel('1 - Specificity', fontsize=18)\n",
    "\n",
    "# Create legend.\n",
    "plt.legend(fontsize=16);"
   ]
  },
  {
   "cell_type": "markdown",
   "metadata": {},
   "source": [
    "### Model 2 (CountVectorizer & MultinomialNB)"
   ]
  },
  {
   "cell_type": "code",
   "execution_count": 92,
   "metadata": {},
   "outputs": [],
   "source": [
    "#Model 2\n",
    "cvec = CountVectorizer()\n",
    "nb = MultinomialNB()"
   ]
  },
  {
   "cell_type": "code",
   "execution_count": 93,
   "metadata": {},
   "outputs": [
    {
     "data": {
      "text/plain": [
       "GridSearchCV(cv=5, error_score=nan,\n",
       "             estimator=Pipeline(memory=None,\n",
       "                                steps=[('cvec',\n",
       "                                        CountVectorizer(analyzer='word',\n",
       "                                                        binary=False,\n",
       "                                                        decode_error='strict',\n",
       "                                                        dtype=<class 'numpy.int64'>,\n",
       "                                                        encoding='utf-8',\n",
       "                                                        input='content',\n",
       "                                                        lowercase=True,\n",
       "                                                        max_df=1.0,\n",
       "                                                        max_features=None,\n",
       "                                                        min_df=1,\n",
       "                                                        ngram_range=(1, 1),\n",
       "                                                        preprocessor=None,\n",
       "                                                        stop_words=None,\n",
       "                                                        strip_accents=None,\n",
       "                                                        token_pattern='(?u)...\\b',\n",
       "                                                        tokenizer=None,\n",
       "                                                        vocabulary=None)),\n",
       "                                       ('nb',\n",
       "                                        MultinomialNB(alpha=1.0,\n",
       "                                                      class_prior=None,\n",
       "                                                      fit_prior=True))],\n",
       "                                verbose=False),\n",
       "             iid='deprecated', n_jobs=3,\n",
       "             param_grid={'cvec__max_df': array([0.8]),\n",
       "                         'cvec__max_features': range(4000, 5000, 6000),\n",
       "                         'cvec__ngram_range': [(1, 1), (1, 2), (1, 3)]},\n",
       "             pre_dispatch='2*n_jobs', refit=True, return_train_score=False,\n",
       "             scoring=None, verbose=0)"
      ]
     },
     "execution_count": 93,
     "metadata": {},
     "output_type": "execute_result"
    }
   ],
   "source": [
    "pipe = Pipeline([('cvec', cvec), ('nb', nb)])\n",
    "\n",
    "params = {\n",
    "        'cvec__max_features': range(4000,5000,6000),\n",
    "        'cvec__max_df': np.arange(0.8,0.9,0.95),\n",
    "        'cvec__ngram_range': [(1, 1), (1, 2),(1,3)]\n",
    "        }\n",
    "\n",
    "grid_model = GridSearchCV(\n",
    "    pipe,\n",
    "    params,\n",
    "    cv=5,\n",
    "    n_jobs=3,\n",
    ")\n",
    "\n",
    "grid_model.fit(X_train['selftext'], y_train)"
   ]
  },
  {
   "cell_type": "code",
   "execution_count": 94,
   "metadata": {},
   "outputs": [
    {
     "name": "stdout",
     "output_type": "stream",
     "text": [
      "score: 0.8317399617590823\n",
      "best_score: 0.8254098360655737\n",
      "best_params: {'cvec__max_df': 0.8, 'cvec__max_features': 4000, 'cvec__ngram_range': (1, 2)}\n"
     ]
    }
   ],
   "source": [
    "score = grid_model.score(X_test['selftext'], y_test)\n",
    "print('score:',score)\n",
    "\n",
    "print('best_score:', grid_model.best_score_)\n",
    "print('best_params:', grid_model.best_params_)"
   ]
  },
  {
   "cell_type": "markdown",
   "metadata": {},
   "source": [
    "### Confusion Matrix"
   ]
  },
  {
   "cell_type": "code",
   "execution_count": 95,
   "metadata": {},
   "outputs": [
    {
     "name": "stdout",
     "output_type": "stream",
     "text": [
      "True Negatives: 222\n",
      "False Positives: 40\n",
      "False Negatives: 48\n",
      "True Positives: 213\n",
      "\n",
      "\n",
      "Accuracy: 0.832\n",
      "Sensitivity: 0.816\n",
      "Specificity: 0.847\n",
      "Precision: 0.842\n"
     ]
    }
   ],
   "source": [
    "grid_pred = grid_model.predict(X_test['selftext'])\n",
    "\n",
    "tn, fp, fn, tp = confusion_matrix(y_test, grid_pred).ravel()\n",
    "\n",
    "#Confusion Matrix metrics\n",
    "\n",
    "accuracy = (tp+tn)/(tp+fp+fn+tn)\n",
    "sensitivity = tp/(tp+fn)\n",
    "specificity = tn/(tn+fp)\n",
    "precision = tp/(tp+fp)\n",
    "\n",
    "print(\"True Negatives: %s\" % tn)\n",
    "print(\"False Positives: %s\" % fp)\n",
    "print(\"False Negatives: %s\" % fn)\n",
    "print(\"True Positives: %s\" % tp)\n",
    "\n",
    "print('\\n')\n",
    "\n",
    "print('Accuracy:',round(accuracy,3))\n",
    "print('Sensitivity:',round(sensitivity,3))\n",
    "print('Specificity:',round(specificity,3))\n",
    "print('Precision:',round(precision,3))"
   ]
  },
  {
   "cell_type": "markdown",
   "metadata": {},
   "source": [
    "### ROC Curve "
   ]
  },
  {
   "cell_type": "code",
   "execution_count": 96,
   "metadata": {},
   "outputs": [],
   "source": [
    "pred_proba = [i[1] for i in grid_model.predict_proba(X_test['selftext'])] \n",
    "\n",
    "pred_df = pd.DataFrame({'true_values': y_test,\n",
    "                        'pred_probs':pred_proba})"
   ]
  },
  {
   "cell_type": "code",
   "execution_count": 97,
   "metadata": {},
   "outputs": [
    {
     "data": {
      "image/png": "[encoded data removed]",
      "text/plain": [
       "<Figure size 720x504 with 1 Axes>"
      ]
     },
     "metadata": {
      "needs_background": "light"
     },
     "output_type": "display_data"
    }
   ],
   "source": [
    "# Create figure.\n",
    "plt.figure(figsize = (10,7))\n",
    "\n",
    "# Create threshold values.\n",
    "thresholds = np.linspace(0, 1, 200)\n",
    "    \n",
    "# Calculate sensitivity & 1-specificity for each threshold between 0 and 1.\n",
    "tpr_values = [TPR(pred_df, 'true_values', 'pred_probs', prob) for prob in thresholds]\n",
    "fpr_values = [FPR(pred_df, 'true_values', 'pred_probs', prob) for prob in thresholds]\n",
    "\n",
    "# Plot ROC curve.\n",
    "plt.plot(fpr_values, # False Positive Rate on X-axis\n",
    "         tpr_values, # True Positive Rate on Y-axis\n",
    "         label='ROC Curve')\n",
    "\n",
    "# Plot baseline. (Perfect overlap between the two populations.)\n",
    "plt.plot(np.linspace(0, 1, 200),\n",
    "         np.linspace(0, 1, 200),\n",
    "         label='baseline',\n",
    "         linestyle='--')\n",
    "\n",
    "# Label axes.\n",
    "plt.title(f'ROC Curve with AUC = {round(roc_auc_score(pred_df[\"true_values\"], pred_df[\"pred_probs\"]),3)}', fontsize=22)\n",
    "plt.ylabel('Sensitivity', fontsize=18)\n",
    "plt.xlabel('1 - Specificity', fontsize=18)\n",
    "\n",
    "# Create legend.\n",
    "plt.legend(fontsize=16);\n",
    "          "
   ]
  },
  {
   "cell_type": "markdown",
   "metadata": {},
   "source": [
    "### Model 3 (TfidfVectorizer & LogisticRegression)"
   ]
  },
  {
   "cell_type": "code",
   "execution_count": 71,
   "metadata": {},
   "outputs": [],
   "source": [
    "#Model 1\n",
    "tfidf = TfidfVectorizer()\n",
    "lr = LogisticRegression()"
   ]
  },
  {
   "cell_type": "code",
   "execution_count": 72,
   "metadata": {
    "collapsed": true
   },
   "outputs": [
    {
     "data": {
      "text/plain": [
       "GridSearchCV(cv=5, error_score=nan,\n",
       "             estimator=Pipeline(memory=None,\n",
       "                                steps=[('tfidf',\n",
       "                                        TfidfVectorizer(analyzer='word',\n",
       "                                                        binary=False,\n",
       "                                                        decode_error='strict',\n",
       "                                                        dtype=<class 'numpy.float64'>,\n",
       "                                                        encoding='utf-8',\n",
       "                                                        input='content',\n",
       "                                                        lowercase=True,\n",
       "                                                        max_df=1.0,\n",
       "                                                        max_features=None,\n",
       "                                                        min_df=1,\n",
       "                                                        ngram_range=(1, 1),\n",
       "                                                        norm='l2',\n",
       "                                                        preprocessor=None,\n",
       "                                                        smooth_idf=True,\n",
       "                                                        stop_words=None,\n",
       "                                                        strip_acc...\n",
       "                                                           n_jobs=None,\n",
       "                                                           penalty='l2',\n",
       "                                                           random_state=None,\n",
       "                                                           solver='lbfgs',\n",
       "                                                           tol=0.0001,\n",
       "                                                           verbose=0,\n",
       "                                                           warm_start=False))],\n",
       "                                verbose=False),\n",
       "             iid='deprecated', n_jobs=3,\n",
       "             param_grid={'tfidf__max_df': array([0.8]),\n",
       "                         'tfidf__max_features': range(4000, 5000, 6000),\n",
       "                         'tfidf__ngram_range': [(1, 1), (1, 2), (1, 3)]},\n",
       "             pre_dispatch='2*n_jobs', refit=True, return_train_score=False,\n",
       "             scoring=None, verbose=0)"
      ]
     },
     "execution_count": 72,
     "metadata": {},
     "output_type": "execute_result"
    }
   ],
   "source": [
    "pipe = Pipeline([('tfidf', tfidf), ('lr', lr)])\n",
    "\n",
    "params = {\n",
    "        'tfidf__max_features': range(4000,5000,6000),\n",
    "        'tfidf__max_df': np.arange(0.8,0.9,0.95),\n",
    "        'tfidf__ngram_range': [(1, 1), (1, 2),(1,3)],\n",
    "        }\n",
    "\n",
    "grid_model = GridSearchCV(\n",
    "    pipe,\n",
    "    params,\n",
    "    cv=5,\n",
    "    n_jobs=3,\n",
    ")\n",
    "\n",
    "grid_model.fit(X_train['selftext'], y_train)"
   ]
  },
  {
   "cell_type": "code",
   "execution_count": 73,
   "metadata": {},
   "outputs": [
    {
     "name": "stdout",
     "output_type": "stream",
     "text": [
      "score: 0.8546845124282982\n",
      "best_score: 0.8336065573770493\n",
      "best_params: {'tfidf__max_df': 0.8, 'tfidf__max_features': 4000, 'tfidf__ngram_range': (1, 1)}\n"
     ]
    }
   ],
   "source": [
    "score = grid_model.score(X_test['selftext'], y_test)\n",
    "print('score:',score)\n",
    "\n",
    "print('best_score:', grid_model.best_score_)\n",
    "print('best_params:', grid_model.best_params_)"
   ]
  },
  {
   "cell_type": "markdown",
   "metadata": {},
   "source": [
    "### Confusion matrix"
   ]
  },
  {
   "cell_type": "code",
   "execution_count": 74,
   "metadata": {},
   "outputs": [
    {
     "name": "stdout",
     "output_type": "stream",
     "text": [
      "True Negatives: 229\n",
      "False Positives: 33\n",
      "False Negatives: 43\n",
      "True Positives: 218\n",
      "\n",
      "\n",
      "Accuracy: 0.855\n",
      "Sensitivity: 0.835\n",
      "Specificity: 0.874\n",
      "Precision: 0.869\n"
     ]
    }
   ],
   "source": [
    "grid_pred = grid_model.predict(X_test['selftext'])\n",
    "\n",
    "tn, fp, fn, tp = confusion_matrix(y_test, grid_pred).ravel()\n",
    "\n",
    "#Confusion Matrix metrics\n",
    "\n",
    "accuracy = (tp+tn)/(tp+fp+fn+tn)\n",
    "sensitivity = tp/(tp+fn)\n",
    "specificity = tn/(tn+fp)\n",
    "precision = tp/(tp+fp)\n",
    "\n",
    "print(\"True Negatives: %s\" % tn)\n",
    "print(\"False Positives: %s\" % fp)\n",
    "print(\"False Negatives: %s\" % fn)\n",
    "print(\"True Positives: %s\" % tp)\n",
    "\n",
    "print('\\n')\n",
    "\n",
    "print('Accuracy:',round(accuracy,3))\n",
    "print('Sensitivity:',round(sensitivity,3))\n",
    "print('Specificity:',round(specificity,3))\n",
    "print('Precision:',round(precision,3))"
   ]
  },
  {
   "cell_type": "markdown",
   "metadata": {},
   "source": [
    "### ROC Curve"
   ]
  },
  {
   "cell_type": "code",
   "execution_count": 75,
   "metadata": {},
   "outputs": [],
   "source": [
    "pred_proba = [i[1] for i in grid_model.predict_proba(X_test['selftext'])] \n",
    "\n",
    "pred_df = pd.DataFrame({'true_values': y_test,\n",
    "                        'pred_probs':pred_proba})"
   ]
  },
  {
   "cell_type": "code",
   "execution_count": 76,
   "metadata": {},
   "outputs": [
    {
     "data": {
      "image/png": "[encoded data removed]",
      "text/plain": [
       "<Figure size 720x504 with 1 Axes>"
      ]
     },
     "metadata": {
      "needs_background": "light"
     },
     "output_type": "display_data"
    }
   ],
   "source": [
    "# Create figure.\n",
    "plt.figure(figsize = (10,7))\n",
    "\n",
    "# Create threshold values.\n",
    "thresholds = np.linspace(0, 1, 200)\n",
    "    \n",
    "# Calculate sensitivity & 1-specificity for each threshold between 0 and 1.\n",
    "tpr_values = [TPR(pred_df, 'true_values', 'pred_probs', prob) for prob in thresholds]\n",
    "fpr_values = [FPR(pred_df, 'true_values', 'pred_probs', prob) for prob in thresholds]\n",
    "\n",
    "# Plot ROC curve.\n",
    "plt.plot(fpr_values, # False Positive Rate on X-axis\n",
    "         tpr_values, # True Positive Rate on Y-axis\n",
    "         label='ROC Curve')\n",
    "\n",
    "# Plot baseline. (Perfect overlap between the two populations.)\n",
    "plt.plot(np.linspace(0, 1, 200),\n",
    "         np.linspace(0, 1, 200),\n",
    "         label='baseline',\n",
    "         linestyle='--')\n",
    "\n",
    "# Label axes.\n",
    "plt.title(f'ROC Curve with AUC = {round(roc_auc_score(pred_df[\"true_values\"], pred_df[\"pred_probs\"]),3)}', fontsize=22)\n",
    "plt.ylabel('Sensitivity', fontsize=18)\n",
    "plt.xlabel('1 - Specificity', fontsize=18)\n",
    "\n",
    "# Create legend.\n",
    "plt.legend(fontsize=16);"
   ]
  },
  {
   "cell_type": "markdown",
   "metadata": {},
   "source": [
    "### Model 4 (TfidfVectorizer & MultinomialNB)"
   ]
  },
  {
   "cell_type": "code",
   "execution_count": 77,
   "metadata": {},
   "outputs": [],
   "source": [
    "#Model 2\n",
    "tfidf = TfidfVectorizer()\n",
    "nb = MultinomialNB()"
   ]
  },
  {
   "cell_type": "code",
   "execution_count": 78,
   "metadata": {},
   "outputs": [
    {
     "data": {
      "text/plain": [
       "GridSearchCV(cv=5, error_score=nan,\n",
       "             estimator=Pipeline(memory=None,\n",
       "                                steps=[('tfidf',\n",
       "                                        TfidfVectorizer(analyzer='word',\n",
       "                                                        binary=False,\n",
       "                                                        decode_error='strict',\n",
       "                                                        dtype=<class 'numpy.float64'>,\n",
       "                                                        encoding='utf-8',\n",
       "                                                        input='content',\n",
       "                                                        lowercase=True,\n",
       "                                                        max_df=1.0,\n",
       "                                                        max_features=None,\n",
       "                                                        min_df=1,\n",
       "                                                        ngram_range=(1, 1),\n",
       "                                                        norm='l2',\n",
       "                                                        preprocessor=None,\n",
       "                                                        smooth_idf=True,\n",
       "                                                        stop_words=None,\n",
       "                                                        strip_acc...\n",
       "                                                        tokenizer=None,\n",
       "                                                        use_idf=True,\n",
       "                                                        vocabulary=None)),\n",
       "                                       ('nb',\n",
       "                                        MultinomialNB(alpha=1.0,\n",
       "                                                      class_prior=None,\n",
       "                                                      fit_prior=True))],\n",
       "                                verbose=False),\n",
       "             iid='deprecated', n_jobs=3,\n",
       "             param_grid={'tfidf__max_df': array([0.8]),\n",
       "                         'tfidf__max_features': range(4000, 5000, 6000),\n",
       "                         'tfidf__ngram_range': [(1, 1), (1, 2), (1, 3)]},\n",
       "             pre_dispatch='2*n_jobs', refit=True, return_train_score=False,\n",
       "             scoring=None, verbose=0)"
      ]
     },
     "execution_count": 78,
     "metadata": {},
     "output_type": "execute_result"
    }
   ],
   "source": [
    "pipe = Pipeline([('tfidf', tfidf), ('nb', nb)])\n",
    "\n",
    "params = {\n",
    "        'tfidf__max_features': range(4000,5000,6000),\n",
    "        'tfidf__max_df': np.arange(0.8,0.9,0.95),\n",
    "        'tfidf__ngram_range': [(1, 1), (1, 2),(1,3)]\n",
    "        }\n",
    "\n",
    "grid_model = GridSearchCV(\n",
    "    pipe,\n",
    "    params,\n",
    "    cv=5,\n",
    "    n_jobs=3,\n",
    ")\n",
    "\n",
    "grid_model.fit(X_train['selftext'], y_train)"
   ]
  },
  {
   "cell_type": "code",
   "execution_count": 79,
   "metadata": {},
   "outputs": [
    {
     "name": "stdout",
     "output_type": "stream",
     "text": [
      "score: 0.8240917782026769\n",
      "best_score: 0.8172131147540984\n",
      "best_params: {'tfidf__max_df': 0.8, 'tfidf__max_features': 4000, 'tfidf__ngram_range': (1, 2)}\n"
     ]
    }
   ],
   "source": [
    "score = grid_model.score(X_test['selftext'], y_test)\n",
    "print('score:',score)\n",
    "\n",
    "print('best_score:', grid_model.best_score_)\n",
    "print('best_params:', grid_model.best_params_)"
   ]
  },
  {
   "cell_type": "markdown",
   "metadata": {},
   "source": [
    "### Confusion Matrix"
   ]
  },
  {
   "cell_type": "code",
   "execution_count": 80,
   "metadata": {},
   "outputs": [
    {
     "name": "stdout",
     "output_type": "stream",
     "text": [
      "True Negatives: 224\n",
      "False Positives: 38\n",
      "False Negatives: 54\n",
      "True Positives: 207\n",
      "\n",
      "\n",
      "Accuracy: 0.824\n",
      "Sensitivity: 0.793\n",
      "Specificity: 0.855\n",
      "Precision: 0.845\n"
     ]
    }
   ],
   "source": [
    "grid_pred = grid_model.predict(X_test['selftext'])\n",
    "\n",
    "tn, fp, fn, tp = confusion_matrix(y_test, grid_pred).ravel()\n",
    "\n",
    "#Confusion Matrix metrics\n",
    "\n",
    "accuracy = (tp+tn)/(tp+fp+fn+tn)\n",
    "sensitivity = tp/(tp+fn)\n",
    "specificity = tn/(tn+fp)\n",
    "precision = tp/(tp+fp)\n",
    "\n",
    "print(\"True Negatives: %s\" % tn)\n",
    "print(\"False Positives: %s\" % fp)\n",
    "print(\"False Negatives: %s\" % fn)\n",
    "print(\"True Positives: %s\" % tp)\n",
    "\n",
    "print('\\n')\n",
    "\n",
    "print('Accuracy:',round(accuracy,3))\n",
    "print('Sensitivity:',round(sensitivity,3))\n",
    "print('Specificity:',round(specificity,3))\n",
    "print('Precision:',round(precision,3))"
   ]
  },
  {
   "cell_type": "markdown",
   "metadata": {},
   "source": [
    "Grid model 1 gives a better accuracy score as compared to Grid model 2."
   ]
  },
  {
   "cell_type": "markdown",
   "metadata": {},
   "source": [
    "### ROC Curve"
   ]
  },
  {
   "cell_type": "code",
   "execution_count": 81,
   "metadata": {},
   "outputs": [],
   "source": [
    "pred_proba = [i[1] for i in grid_model.predict_proba(X_test['selftext'])] \n",
    "\n",
    "pred_df = pd.DataFrame({'true_values': y_test,\n",
    "                        'pred_probs':pred_proba})"
   ]
  },
  {
   "cell_type": "code",
   "execution_count": 82,
   "metadata": {},
   "outputs": [
    {
     "data": {
      "image/png": "[encoded data removed]",
      "text/plain": [
       "<Figure size 720x504 with 1 Axes>"
      ]
     },
     "metadata": {
      "needs_background": "light"
     },
     "output_type": "display_data"
    }
   ],
   "source": [
    "# Create figure.\n",
    "plt.figure(figsize = (10,7))\n",
    "\n",
    "# Create threshold values.\n",
    "thresholds = np.linspace(0, 1, 200)\n",
    "    \n",
    "# Calculate sensitivity & 1-specificity for each threshold between 0 and 1.\n",
    "tpr_values = [TPR(pred_df, 'true_values', 'pred_probs', prob) for prob in thresholds]\n",
    "fpr_values = [FPR(pred_df, 'true_values', 'pred_probs', prob) for prob in thresholds]\n",
    "\n",
    "# Plot ROC curve.\n",
    "plt.plot(fpr_values, # False Positive Rate on X-axis\n",
    "         tpr_values, # True Positive Rate on Y-axis\n",
    "         label='ROC Curve')\n",
    "\n",
    "# Plot baseline. (Perfect overlap between the two populations.)\n",
    "plt.plot(np.linspace(0, 1, 200),\n",
    "         np.linspace(0, 1, 200),\n",
    "         label='baseline',\n",
    "         linestyle='--')\n",
    "\n",
    "# Label axes.\n",
    "plt.title(f'ROC Curve with AUC = {round(roc_auc_score(pred_df[\"true_values\"], pred_df[\"pred_probs\"]),3)}', fontsize=22)\n",
    "plt.ylabel('Sensitivity', fontsize=18)\n",
    "plt.xlabel('1 - Specificity', fontsize=18)\n",
    "\n",
    "# Create legend.\n",
    "plt.legend(fontsize=16);\n",
    "          \n",
    "          \n"
   ]
  },
  {
   "cell_type": "markdown",
   "metadata": {},
   "source": [
    "## Evaluation Summary"
   ]
  },
  {
   "cell_type": "markdown",
   "metadata": {},
   "source": [
    "### Model Choice: TfidfVectorizer & LogisticRegression\n",
    "\n",
    "**TfidfVectorizer & LogisticRegression** was the final choice of our model as it has one of the highest accuracy score as compared to other deployed methods. \n",
    "\n",
    "\n",
    "### Data collected from models\n",
    "\n",
    "|Model      |Accuracy      |ROC AUC \n",
    "|---------    |------    |---------|\n",
    "|**Logistic Regression** |0.8336    |0.907  |\n",
    "|**MultinomialNB**        |0.8068    |0.882  |\n",
    "|**CountVectorizer & LogisticRegression** |0.847  |0.91  |\n",
    "|**CountVectorizer & MultinomialNB**    |0.831    |0.82  |\n",
    "|**TfidfVectorizer & LogisticRegression** |**0.8546**  |**0.935**  |\n",
    "|**TfidfVectorizer & MultinomialNB**    |0.8221    |0.908  |\n",
    "\n",
    "**Accuracy:** TfidfVectorizer & LogisticRegression provided the highest accuracy of **0.8546**.  \n",
    "**ROC AUC:** TfidfVectorizer & LogisticRegression has **0.935**. This mean that the positive and negative predictions are relatively distinct and there is not much overlapped between them. \n"
   ]
  },
  {
   "cell_type": "markdown",
   "metadata": {},
   "source": [
    "## Conclusion & Recommendation\n",
    "\n",
    "In conclusion, the sentiment analysis of words used in both the subreddit post are pretty similar. Both are on the extreme side of the score in which their words are mostly very negative(-1) or positive(1). In this case it is possible as we are handling depression and anxiety issue thus, the sentiment within the posts would be relatively negative and at the same time people would be giving positive advise which would form the positive aspect of the posts.\n",
    "\n",
    "And from the words comparison analysis, both subreddit posts have similar usage of words such as 'feel' and 'people' which are words used to describe feelings and human interactions. Individually, depression have distinct words such as 'friend' and 'life' which is relevant to this situation in which depression patients would normally be discussing about life issues and having friends support. Anxiety has distinct words such as 'feeling' and 'work' and it might be due to the emotional aspect of anxiety disorder patients feeling stress at work or engaging in social ineraction. \n",
    "\n",
    "With all the above analysis we decided to implement it into 4 different models and TfidfVectorizer & LogisticRegression gave us the best accuracy and ROC AUC score. Beside having the best score and accuracy the confusion matrix of the model gives the least type 2 error, in which psychiatrist fail to diagnosed an anxiety disorder patient. We feel that failling to diagnose an anxiety disorder patient would be more detrimental as opposed to diagnosing a patient wrongly for anxiety. This would further harm the patient mental health. In conclusion, the final model with TfidfVectorizer & LogisticRegression will be used and recommended for helping psychiatrist to make better deduction of depression or anxiety attack patients.\n",
    "\n",
    "\n",
    "\n"
   ]
  },
  {
   "cell_type": "code",
   "execution_count": null,
   "metadata": {},
   "outputs": [],
   "source": []
  }
 ],
 "metadata": {
  "kernelspec": {
   "display_name": "Python 3",
   "language": "python",
   "name": "python3"
  },
  "language_info": {
   "codemirror_mode": {
    "name": "ipython",
    "version": 3
   },
   "file_extension": ".py",
   "mimetype": "text/x-python",
   "name": "python",
   "nbconvert_exporter": "python",
   "pygments_lexer": "ipython3",
   "version": "3.7.6"
  }
 },
 "nbformat": 4,
 "nbformat_minor": 2
}

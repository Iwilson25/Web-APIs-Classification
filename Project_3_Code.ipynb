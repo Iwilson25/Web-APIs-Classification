{
 "cells": [
  {
   "cell_type": "markdown",
   "metadata": {},
   "source": [
    "# Project 3: Web APIs & Classification"
   ]
  },
  {
   "cell_type": "markdown",
   "metadata": {},
   "source": [
    "# Problem Statement\n",
    "\n",
    "To scape 2 subreddits(Anxiety & Depression) and using the scape data to build classification model which is based on Logistic Regression and MultinomialNB. The purpose of the model is to accurately predict the category of the words used in both subreddits. We hope that the model could be implemented in therapy session to distingush between an anxiety or depression patient.  \n",
    "\n",
    "And at the end of the evaluation, the model with the best accuracy and least type 2 error would be selected as the final model. This would be based on score accuracy, ROC AUC score and confusion matrix."
   ]
  },
  {
   "cell_type": "markdown",
   "metadata": {},
   "source": [
    "# Executive Summary\n",
    "\n",
    "Singapore has one of the highest depressive disorder cases among high-income nation around the world. And there is an increasing trend among Singapore youth to be diagnosed with depression or anxiety disorder. \n",
    "\n",
    "We hope that the model would provide insights on the common words used by depression or anxiety disorder patients during therapy. Therefore, mapping out a relationship between words used and sentiments of patients. Eventually the model could be utilize to help psychiatrist to make better deduction of depression or anxiety disorder patients. Thus, ensuring that the proper resources and treatments are allocated to individual patient. "
   ]
  },
  {
   "cell_type": "markdown",
   "metadata": {},
   "source": [
    "# Contents:\n",
    "- [Acquiring URL of Anxiety Disorder & Depression](#Acquiring-URL-of-Anxiety-Disorder-&-Depression)\n",
    "- [Loops to obtain more posts](#Loops-to-obtain-more-posts)\n",
    "- [Define Functions](#Define-Functions)\n",
    "- [Importing Scrap Data](#Importing-Scrap-Data)\n",
    "- [Inspect & Cleaning](#Inspect-&-Cleaning)\n",
    "- [EDA](#EDA)\n",
    "- [Target and feature (Post)](#Target-and-feature-(Post))\n",
    "- [Logistic Regression](#Logistic-Regression)\n",
    "- [MultinomialNB](#MultinomialNB)\n",
    "- [Gridsearch & Pipeline](#Gridsearch-&-Pipeline)\n",
    "- [Evaluation Summary](#Evaluation-Summary)\n",
    "- [Conclusion & Recommendation](#Conclusion-&-Recommendation)"
   ]
  },
  {
   "cell_type": "code",
   "execution_count": 1,
   "metadata": {},
   "outputs": [],
   "source": [
    "import requests\n",
    "import pandas as pd\n",
    "import time\n",
    "import random"
   ]
  },
  {
   "cell_type": "markdown",
   "metadata": {},
   "source": [
    "## Acquiring URL of Anxiety Disorder & Depression"
   ]
  },
  {
   "cell_type": "code",
   "execution_count": 2,
   "metadata": {},
   "outputs": [],
   "source": [
    "#Anxiety Disorder URL\n",
    "url_anxiety = 'https://www.reddit.com/r/Anxiety.json'"
   ]
  },
  {
   "cell_type": "code",
   "execution_count": 4,
   "metadata": {},
   "outputs": [],
   "source": [
    "#Depression Dark Place\n",
    "url_depression_dark_place = 'https://www.reddit.com/r/depression.json'"
   ]
  },
  {
   "cell_type": "code",
   "execution_count": null,
   "metadata": {},
   "outputs": [],
   "source": [
    "#Requests Anxiety Disorder URL \n",
    "res_anxiety = requests.get(url_anxiety)"
   ]
  },
  {
   "cell_type": "code",
   "execution_count": null,
   "metadata": {},
   "outputs": [],
   "source": [
    "#Requests Depression URL \n",
    "res_depression = requests.get(url_depression)"
   ]
  },
  {
   "cell_type": "code",
   "execution_count": null,
   "metadata": {},
   "outputs": [],
   "source": [
    "res_anxiety.status_code, res_depression.status_code"
   ]
  },
  {
   "cell_type": "code",
   "execution_count": null,
   "metadata": {},
   "outputs": [],
   "source": [
    "#Change of user-agent\n",
    "res_anxiety = requests.get(url_anxiety, headers={'User-agent': 'Wil 1.0'})\n",
    "res_depression = requests.get(url_depression, headers={'User-agent': 'Wil 1.0'})"
   ]
  },
  {
   "cell_type": "code",
   "execution_count": null,
   "metadata": {},
   "outputs": [],
   "source": [
    "res_anxiety.status_code, res_depression.status_code"
   ]
  },
  {
   "cell_type": "code",
   "execution_count": null,
   "metadata": {},
   "outputs": [],
   "source": [
    "#Anxiety Disorder dictionary\n",
    "anxiety_dict = res_anxiety.json()"
   ]
  },
  {
   "cell_type": "code",
   "execution_count": null,
   "metadata": {},
   "outputs": [],
   "source": [
    "#Depression dictionary\n",
    "depression_dict = res_depression.json()"
   ]
  },
  {
   "cell_type": "code",
   "execution_count": null,
   "metadata": {},
   "outputs": [],
   "source": [
    "anxiety_dict['data'].keys()"
   ]
  },
  {
   "cell_type": "code",
   "execution_count": null,
   "metadata": {},
   "outputs": [],
   "source": [
    "depression_dict['data'].keys()"
   ]
  },
  {
   "cell_type": "code",
   "execution_count": null,
   "metadata": {},
   "outputs": [],
   "source": [
    "anxiety_dict['data']['children']"
   ]
  },
  {
   "cell_type": "code",
   "execution_count": null,
   "metadata": {},
   "outputs": [],
   "source": [
    "len(anxiety_dict['data']['children'])"
   ]
  },
  {
   "cell_type": "markdown",
   "metadata": {},
   "source": [
    "## Loops to obtain more posts"
   ]
  },
  {
   "cell_type": "code",
   "execution_count": 7,
   "metadata": {},
   "outputs": [
    {
     "name": "stdout",
     "output_type": "stream",
     "text": [
      "https://www.reddit.com/r/Anxiety.json\n",
      "4\n",
      "https://www.reddit.com/r/Anxiety.json?after=t3_fep9on\n",
      "5\n",
      "https://www.reddit.com/r/Anxiety.json?after=t3_fek711\n",
      "2\n",
      "https://www.reddit.com/r/Anxiety.json?after=t3_felsyc\n",
      "3\n",
      "https://www.reddit.com/r/Anxiety.json?after=t3_feji5i\n",
      "3\n",
      "https://www.reddit.com/r/Anxiety.json?after=t3_fegdtg\n",
      "3\n",
      "https://www.reddit.com/r/Anxiety.json?after=t3_fe7fuk\n",
      "3\n",
      "https://www.reddit.com/r/Anxiety.json?after=t3_feb982\n",
      "3\n",
      "https://www.reddit.com/r/Anxiety.json?after=t3_fe6jwu\n",
      "6\n",
      "https://www.reddit.com/r/Anxiety.json?after=t3_fe7ib7\n",
      "6\n",
      "https://www.reddit.com/r/Anxiety.json?after=t3_fdsrvx\n",
      "3\n",
      "https://www.reddit.com/r/Anxiety.json?after=t3_fe3lrf\n",
      "5\n",
      "https://www.reddit.com/r/Anxiety.json?after=t3_fdw26v\n",
      "2\n",
      "https://www.reddit.com/r/Anxiety.json?after=t3_fdyvjx\n",
      "6\n",
      "https://www.reddit.com/r/Anxiety.json?after=t3_fdl9t1\n",
      "4\n",
      "https://www.reddit.com/r/Anxiety.json?after=t3_fdsyz8\n",
      "2\n",
      "https://www.reddit.com/r/Anxiety.json?after=t3_fdn70d\n",
      "3\n",
      "https://www.reddit.com/r/Anxiety.json?after=t3_fdpn9v\n",
      "5\n",
      "https://www.reddit.com/r/Anxiety.json?after=t3_fdnno5\n",
      "3\n",
      "https://www.reddit.com/r/Anxiety.json?after=t3_fdf4nv\n",
      "6\n",
      "https://www.reddit.com/r/Anxiety.json?after=t3_fdjt6j\n",
      "4\n",
      "https://www.reddit.com/r/Anxiety.json?after=t3_fdigva\n",
      "6\n",
      "https://www.reddit.com/r/Anxiety.json?after=t3_fdderx\n",
      "5\n",
      "https://www.reddit.com/r/Anxiety.json?after=t3_fd8c15\n",
      "6\n",
      "https://www.reddit.com/r/Anxiety.json?after=t3_fd9bd0\n",
      "3\n",
      "https://www.reddit.com/r/Anxiety.json?after=t3_fd9lgp\n",
      "4\n",
      "https://www.reddit.com/r/Anxiety.json?after=t3_fd377a\n",
      "5\n",
      "https://www.reddit.com/r/Anxiety.json?after=t3_fd616y\n",
      "5\n",
      "https://www.reddit.com/r/Anxiety.json?after=t3_fd0x86\n",
      "4\n",
      "https://www.reddit.com/r/Anxiety.json?after=t3_fcvljn\n",
      "6\n",
      "https://www.reddit.com/r/Anxiety.json?after=t3_fco462\n",
      "4\n",
      "https://www.reddit.com/r/Anxiety.json?after=t3_fcwgcj\n",
      "6\n",
      "https://www.reddit.com/r/Anxiety.json?after=t3_fcrh9s\n",
      "2\n",
      "https://www.reddit.com/r/Anxiety.json?after=t3_fcpmql\n",
      "5\n",
      "https://www.reddit.com/r/Anxiety.json?after=t3_fcp9y6\n",
      "6\n",
      "https://www.reddit.com/r/Anxiety.json?after=t3_fcib1p\n",
      "2\n",
      "https://www.reddit.com/r/Anxiety.json?after=t3_fcmaj4\n",
      "3\n",
      "https://www.reddit.com/r/Anxiety.json?after=t3_fckl5q\n",
      "5\n",
      "https://www.reddit.com/r/Anxiety.json?after=t3_fcbaba\n",
      "4\n",
      "https://www.reddit.com/r/Anxiety.json?after=t3_fcckva\n",
      "2\n",
      "https://www.reddit.com/r/Anxiety.json\n",
      "6\n",
      "https://www.reddit.com/r/Anxiety.json?after=t3_fep9on\n",
      "4\n",
      "https://www.reddit.com/r/Anxiety.json?after=t3_fek711\n",
      "3\n",
      "https://www.reddit.com/r/Anxiety.json?after=t3_felsyc\n",
      "3\n",
      "https://www.reddit.com/r/Anxiety.json?after=t3_feji5i\n",
      "4\n",
      "https://www.reddit.com/r/Anxiety.json?after=t3_fegdtg\n",
      "3\n",
      "https://www.reddit.com/r/Anxiety.json?after=t3_fe7fuk\n",
      "4\n",
      "https://www.reddit.com/r/Anxiety.json?after=t3_feb982\n",
      "6\n",
      "https://www.reddit.com/r/Anxiety.json?after=t3_fe6jwu\n",
      "2\n",
      "https://www.reddit.com/r/Anxiety.json?after=t3_fe7ib7\n",
      "4\n"
     ]
    }
   ],
   "source": [
    "#Anxiety dataframe\n",
    "posts_anxiety = []\n",
    "after = None\n",
    "\n",
    "for a in range(50):\n",
    "    if after == None:\n",
    "        current_url = url_anxiety\n",
    "    else:\n",
    "        current_url = url_anxiety + '?after=' + after\n",
    "    print(current_url)\n",
    "    res = requests.get(current_url, headers={'User-agent': 'Wil 1.0'})\n",
    "    \n",
    "    if res.status_code != 200:\n",
    "        print('Status error', res.status_code)\n",
    "        break\n",
    "    \n",
    "    current_dict = res.json()\n",
    "    current_posts = [p['data'] for p in current_dict['data']['children']]\n",
    "    posts_anxiety.extend(current_posts)\n",
    "    after = current_dict['data']['after']\n",
    "    \n",
    "    # generate a random sleep duration to look more 'natural'\n",
    "    sleep_duration = random.randint(2,6)\n",
    "    print(sleep_duration)\n",
    "    time.sleep(sleep_duration)"
   ]
  },
  {
   "cell_type": "code",
   "execution_count": 10,
   "metadata": {},
   "outputs": [],
   "source": [
    "pd.DataFrame(posts_anxiety).to_csv('anxiety.csv', index = False)"
   ]
  },
  {
   "cell_type": "code",
   "execution_count": 8,
   "metadata": {},
   "outputs": [
    {
     "data": {
      "text/plain": [
       "1253"
      ]
     },
     "execution_count": 8,
     "metadata": {},
     "output_type": "execute_result"
    }
   ],
   "source": [
    "len(posts_anxiety)"
   ]
  },
  {
   "cell_type": "code",
   "execution_count": null,
   "metadata": {},
   "outputs": [],
   "source": [
    "#Unique Anxiety comments\n",
    "len(set(p['selftext'] for p in posts_anxiety))"
   ]
  },
  {
   "cell_type": "code",
   "execution_count": 11,
   "metadata": {
    "collapsed": true
   },
   "outputs": [
    {
     "name": "stdout",
     "output_type": "stream",
     "text": [
      "https://www.reddit.com/r/depression.json\n",
      "6\n",
      "https://www.reddit.com/r/depression.json?after=t3_felz2c\n",
      "6\n",
      "https://www.reddit.com/r/depression.json?after=t3_fenddo\n",
      "2\n",
      "https://www.reddit.com/r/depression.json?after=t3_feoojv\n",
      "2\n",
      "https://www.reddit.com/r/depression.json?after=t3_fem903\n",
      "4\n",
      "https://www.reddit.com/r/depression.json?after=t3_feppmn\n",
      "2\n",
      "https://www.reddit.com/r/depression.json?after=t3_fep5r1\n",
      "5\n",
      "https://www.reddit.com/r/depression.json?after=t3_feok3a\n",
      "6\n",
      "https://www.reddit.com/r/depression.json?after=t3_fea8or\n",
      "4\n",
      "https://www.reddit.com/r/depression.json?after=t3_feng6j\n",
      "2\n",
      "https://www.reddit.com/r/depression.json?after=t3_fehgth\n",
      "2\n",
      "https://www.reddit.com/r/depression.json?after=t3_fega6j\n",
      "2\n",
      "https://www.reddit.com/r/depression.json?after=t3_fek4za\n",
      "4\n",
      "https://www.reddit.com/r/depression.json?after=t3_fef52j\n",
      "6\n",
      "https://www.reddit.com/r/depression.json?after=t3_fdnzub\n",
      "2\n",
      "https://www.reddit.com/r/depression.json?after=t3_feauao\n",
      "3\n",
      "https://www.reddit.com/r/depression.json?after=t3_fe9e27\n",
      "3\n",
      "https://www.reddit.com/r/depression.json?after=t3_fe2s0h\n",
      "5\n",
      "https://www.reddit.com/r/depression.json?after=t3_feamwy\n",
      "3\n",
      "https://www.reddit.com/r/depression.json?after=t3_fe8m0l\n",
      "4\n",
      "https://www.reddit.com/r/depression.json?after=t3_fe7rw8\n",
      "4\n",
      "https://www.reddit.com/r/depression.json?after=t3_fe2u4y\n",
      "4\n",
      "https://www.reddit.com/r/depression.json?after=t3_fe25bu\n",
      "3\n",
      "https://www.reddit.com/r/depression.json?after=t3_fe0ofw\n",
      "2\n",
      "https://www.reddit.com/r/depression.json?after=t3_fe44n2\n",
      "3\n",
      "https://www.reddit.com/r/depression.json?after=t3_fe22t7\n",
      "4\n",
      "https://www.reddit.com/r/depression.json?after=t3_fe4sik\n",
      "2\n",
      "https://www.reddit.com/r/depression.json?after=t3_fe0k7v\n",
      "3\n",
      "https://www.reddit.com/r/depression.json?after=t3_fe151n\n",
      "2\n",
      "https://www.reddit.com/r/depression.json?after=t3_fe0aud\n",
      "3\n",
      "https://www.reddit.com/r/depression.json?after=t3_fe1n2p\n",
      "5\n",
      "https://www.reddit.com/r/depression.json?after=t3_fdidob\n",
      "6\n",
      "https://www.reddit.com/r/depression.json?after=t3_fdtbui\n",
      "6\n",
      "https://www.reddit.com/r/depression.json?after=t3_fdzr8b\n",
      "6\n",
      "https://www.reddit.com/r/depression.json?after=t3_fdq1hh\n",
      "2\n",
      "https://www.reddit.com/r/depression.json?after=t3_fdue6t\n",
      "4\n",
      "https://www.reddit.com/r/depression.json?after=t3_fdwoku\n",
      "2\n",
      "https://www.reddit.com/r/depression.json\n",
      "3\n",
      "https://www.reddit.com/r/depression.json?after=t3_felz2c\n",
      "5\n",
      "https://www.reddit.com/r/depression.json?after=t3_fenddo\n",
      "4\n",
      "https://www.reddit.com/r/depression.json?after=t3_fen0as\n",
      "6\n",
      "https://www.reddit.com/r/depression.json?after=t3_feo0yl\n",
      "6\n",
      "https://www.reddit.com/r/depression.json?after=t3_fepq17\n",
      "4\n",
      "https://www.reddit.com/r/depression.json?after=t3_fep5r1\n",
      "6\n",
      "https://www.reddit.com/r/depression.json?after=t3_feok3a\n",
      "2\n",
      "https://www.reddit.com/r/depression.json?after=t3_fea8or\n",
      "2\n",
      "https://www.reddit.com/r/depression.json?after=t3_feng6j\n",
      "4\n",
      "https://www.reddit.com/r/depression.json?after=t3_fehgth\n",
      "4\n",
      "https://www.reddit.com/r/depression.json?after=t3_fega6j\n",
      "5\n",
      "https://www.reddit.com/r/depression.json?after=t3_fek4za\n",
      "3\n"
     ]
    }
   ],
   "source": [
    "#Depression_dark dataframe\n",
    "posts_depression_dark = []\n",
    "after = None\n",
    "\n",
    "for a in range(50):\n",
    "    if after == None:\n",
    "        current_url = url_depression_dark_place\n",
    "    else:\n",
    "        current_url = url_depression_dark_place + '?after=' + after\n",
    "    print(current_url)\n",
    "    res = requests.get(current_url, headers={'User-agent': 'Wil 1.0'})\n",
    "    \n",
    "    if res.status_code != 200:\n",
    "        print('Status error', res.status_code)\n",
    "        break\n",
    "    \n",
    "    current_dict = res.json()\n",
    "    current_posts = [p['data'] for p in current_dict['data']['children']]\n",
    "    posts_depression_dark.extend(current_posts)\n",
    "    after = current_dict['data']['after']\n",
    "\n",
    "    # generate a random sleep duration to look more 'natural'\n",
    "    sleep_duration = random.randint(2,6)\n",
    "    print(sleep_duration)\n",
    "    time.sleep(sleep_duration)"
   ]
  },
  {
   "cell_type": "code",
   "execution_count": 12,
   "metadata": {},
   "outputs": [],
   "source": [
    "pd.DataFrame(posts_depression_dark).to_csv('depression_dark.csv', index = False)"
   ]
  },
  {
   "cell_type": "code",
   "execution_count": 13,
   "metadata": {},
   "outputs": [
    {
     "data": {
      "text/plain": [
       "1246"
      ]
     },
     "execution_count": 13,
     "metadata": {},
     "output_type": "execute_result"
    }
   ],
   "source": [
    "len([p['selftext'] for p in posts_depression_dark])"
   ]
  },
  {
   "cell_type": "code",
   "execution_count": 14,
   "metadata": {},
   "outputs": [
    {
     "data": {
      "text/plain": [
       "917"
      ]
     },
     "execution_count": 14,
     "metadata": {},
     "output_type": "execute_result"
    }
   ],
   "source": [
    "len(set(p['selftext'] for p in posts_depression_dark))"
   ]
  }
 ],
 "metadata": {
  "kernelspec": {
   "display_name": "Python 3",
   "language": "python",
   "name": "python3"
  },
  "language_info": {
   "codemirror_mode": {
    "name": "ipython",
    "version": 3
   },
   "file_extension": ".py",
   "mimetype": "text/x-python",
   "name": "python",
   "nbconvert_exporter": "python",
   "pygments_lexer": "ipython3",
   "version": "3.7.6"
  }
 },
 "nbformat": 4,
 "nbformat_minor": 2
}
